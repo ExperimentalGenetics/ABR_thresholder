{
 "cells": [
  {
   "cell_type": "markdown",
   "metadata": {},
   "source": [
    "# Description\n",
    "\n",
    "This notebook is about pre-processing the Auditory Brainstem Response (ABR) raw data files provided by [Ingham et. al](https://journals.plos.org/plosbiology/article?id=10.1371/journal.pbio.3000194) to create a dataset for Deep Learning models.\n",
    "\n",
    "The unprocessed ABR data available at [Dryad](https://datadryad.org/stash/dataset/doi:10.5061/dryad.cv803rv).\n",
    "\n",
    "Since the ABR raw data is available as zip-archives, these have to be unzipped and the extracted raw data files parsed so that the time series corresponding to the ABR audiograms can be saved in a single csv file.\n",
    "\n",
    "The final dataset contains the ABR time series, an individual mouse identifier, stimulus frequency, stimulus sound pressure level (SPL) and a manually determined hearing threshold. For each mouse there are different time series corresponding to six different sound stimuli: broadband click, 6, 12, 18, 24, and 30 kHz, each of which was measured for a range of sound pressure levels. The exact range of sound levels can vary between the different mice and stimuli. \n",
    "\n",
    "The following is done: \n",
    "* The zip archives are unpacked.\n",
    "* The extracted ABR raw data files are parsed and collected in a csv file per archive.\n",
    "* The csv files are merged into a data set of time series. Each time series corresponds to an ABR audiogram measured for a mouse at a specific frequency and sound level.\n",
    "* The mouse phenotyping data are available in Excel format. The individual data sheets are combined into one mouse phenotyping data set, maintaining the mouse pipeline and the cohort type mapping. In addition, the hearing thresholds are added to the ABR audiogram data set.\n",
    "* The data sets are curated: \n",
    "    - there is a single curve per mouse, stimulus frequency and sound level,\n",
    "    - each sound level is included in the list of potential sound pressure levels,\n",
    "    - for each mouse for which an ABR audiogram has been measured, mouse phenotyping data are also provided."
   ]
  },
  {
   "cell_type": "code",
   "execution_count": null,
   "metadata": {
    "ExecuteTime": {
     "end_time": "2021-04-26T09:40:01.231127Z",
     "start_time": "2021-04-26T09:40:00.790986Z"
    }
   },
   "outputs": [],
   "source": [
    "%reload_ext autoreload\n",
    "%autoreload 2\n",
    "%matplotlib inline "
   ]
  },
  {
   "cell_type": "code",
   "execution_count": null,
   "metadata": {
    "ExecuteTime": {
     "end_time": "2021-04-26T09:40:02.011292Z",
     "start_time": "2021-04-26T09:40:01.985947Z"
    }
   },
   "outputs": [],
   "source": [
    "from IPython.core.display import display, HTML\n",
    "display(HTML(\"<style>.container { width:100% !important; }</style>\"))"
   ]
  },
  {
   "cell_type": "markdown",
   "metadata": {},
   "source": [
    "# Import Libraries"
   ]
  },
  {
   "cell_type": "code",
   "execution_count": null,
   "metadata": {
    "ExecuteTime": {
     "end_time": "2021-04-26T09:40:04.717402Z",
     "start_time": "2021-04-26T09:40:04.447103Z"
    }
   },
   "outputs": [],
   "source": [
    "import os \n",
    "import glob\n",
    "import time\n",
    "\n",
    "import pandas as pd\n",
    "import matplotlib.pyplot as plt\n",
    "\n",
    "from zipfile import ZipFile "
   ]
  },
  {
   "cell_type": "markdown",
   "metadata": {},
   "source": [
    "# Definitions\n",
    "\n",
    "Definition of variables and methods to be used later."
   ]
  },
  {
   "cell_type": "code",
   "execution_count": null,
   "metadata": {
    "ExecuteTime": {
     "end_time": "2021-04-20T08:16:39.753096Z",
     "start_time": "2021-04-20T08:16:39.726681Z"
    }
   },
   "outputs": [],
   "source": [
    "\"\"\"Set the path to the zip-archives\"\"\"\n",
    "path2data = '...'"
   ]
  },
  {
   "cell_type": "code",
   "execution_count": null,
   "metadata": {
    "ExecuteTime": {
     "end_time": "2021-04-26T09:40:09.618257Z",
     "start_time": "2021-04-26T09:40:09.589704Z"
    }
   },
   "outputs": [],
   "source": [
    "\"\"\"\n",
    "Define potential frequencies measured in Hz, with the exception of 100, \n",
    "which stands for a broadband frequency stimulus (click)  \n",
    "\"\"\"\n",
    "freqs = [100, 6000, 12000, 18000, 24000, 30000]\n",
    "print(*['potential stimulus frequencies: ' + str(x) if x==100 else str(x)+'Hz' for x in freqs], sep = \", \") "
   ]
  },
  {
   "cell_type": "code",
   "execution_count": null,
   "metadata": {
    "ExecuteTime": {
     "end_time": "2021-04-26T09:40:10.732475Z",
     "start_time": "2021-04-26T09:40:10.705368Z"
    }
   },
   "outputs": [],
   "source": [
    "\"\"\"Define potential sound pressure levels measured in dB\"\"\"\n",
    "sound_levels = [x for x in range(0, 100, 5)] \n",
    "print(*['potential sound pressure levels [dB]: ' + str(x) if x==0 else str(x) for x in sound_levels], sep = \", \") "
   ]
  },
  {
   "cell_type": "code",
   "execution_count": null,
   "metadata": {
    "ExecuteTime": {
     "end_time": "2021-04-20T19:56:38.687313Z",
     "start_time": "2021-04-20T19:56:38.657875Z"
    },
    "code_folding": [
     7
    ]
   },
   "outputs": [],
   "source": [
    "\"\"\"Set the columns of the final data set\"\"\"\n",
    "columns = []\n",
    "for col in ['mouse_id', 'frequency', 'sound_level']:\n",
    "    columns.append(col)\n",
    "i = 1\n",
    "\n",
    "time_steps = 1953\n",
    "while i<= time_steps:\n",
    "    columns.append('t'+str(i))\n",
    "    i+=1\n",
    "\n",
    "\"\"\"Required to be able to subsequently exclude test/calibration measurements\"\"\"        \n",
    "columns.append('test')"
   ]
  },
  {
   "cell_type": "code",
   "execution_count": null,
   "metadata": {
    "ExecuteTime": {
     "end_time": "2021-04-20T19:56:42.092529Z",
     "start_time": "2021-04-20T19:56:42.055473Z"
    },
    "code_folding": []
   },
   "outputs": [],
   "source": [
    "def plot_curves(_df, _mouse_id, _freq, _sl=None, _threshold=None):\n",
    "    \"\"\"\n",
    "    Plots ABR curves for a given mouse identifier and frequency.\n",
    "    \n",
    "    Parameters\n",
    "    ----------\n",
    "        _df : pandas-data-frame\n",
    "            A data frame that contains ABR time series in each row. \n",
    "           \n",
    "        _mouse_id : string\n",
    "            A given mouse identifier.\n",
    "         \n",
    "        _freq : string\n",
    "            A given stimulus frequency.\n",
    "            \n",
    "        _sl : string, default 'None'\n",
    "            A given sound pressure level.\n",
    "            \n",
    "        _threshold : string, default 'None'\n",
    "            A manually determined hearing threshold for a given sound stimulus.\n",
    "    \"\"\"\n",
    "    \n",
    "    data_range = range(1, 1953)\n",
    "    data_cols = ['t' + str(i) for i in data_range]\n",
    "    \n",
    "    yticks = _df.loc[(_df.mouse_id==_mouse_id) & (_df.frequency==_freq), 'sound_level'].unique()\n",
    "    \n",
    "    plt.rcParams.update({'font.size': 20})\n",
    "    plt.figure(figsize=(30, 24), dpi=200, facecolor='w', edgecolor='k')\n",
    "    plt.xlabel('Time steps [overall 10ms]')\n",
    "    plt.ylabel('Corresponding sound level [dB]')\n",
    "    plt.title('Mouse ID: ' + str(_mouse_id) + ' - Frequency: ' + str(_freq))\n",
    "    plt.yticks(yticks, fontsize='small')\n",
    "    plt.ylim((min(yticks) - 5, max(yticks) + 15))\n",
    "    if _sl:\n",
    "        _df1 = _df[(_df['sound_level']==_sl) & (_df['mouse_id']==_mouse_id) & (_df['frequency']==_freq)][data_cols]\n",
    "        idx = 0\n",
    "        while idx < len(_df1.index):\n",
    "            plt.plot(data_range, _sl + \n",
    "                     2.5*_df1.iloc[idx],\n",
    "                     color='#333F50', linewidth=2.5)\n",
    "            idx+=1\n",
    "    else:    \n",
    "        for soundlevel in _df.loc[(_df.mouse_id==_mouse_id) & (_df.frequency==_freq), 'sound_level']:\n",
    "            plt.plot(data_range, soundlevel + \n",
    "                     2.5*_df[(_df['sound_level']==soundlevel) & (_df['mouse_id']==_mouse_id) & (_df['frequency']==_freq)][data_cols].iloc[0],\n",
    "                     color='#333F50', linewidth=2.5)\n",
    "        if _threshold is not None: \n",
    "            plt.hlines(_threshold, -1, 2000, colors=None, linestyles='dashed', label='threshold', linewidth=5.0)"
   ]
  },
  {
   "cell_type": "code",
   "execution_count": null,
   "metadata": {
    "ExecuteTime": {
     "end_time": "2021-04-26T08:51:49.562535Z",
     "start_time": "2021-04-26T08:51:49.532746Z"
    },
    "code_folding": []
   },
   "outputs": [],
   "source": [
    "def get_duplicates(_df, _columns): \n",
    "    \"\"\"\n",
    "    Identifies duplicates by columns in a given dataset.\n",
    "    \n",
    "    Parameters\n",
    "    ----------\n",
    "        _df : pandas-data-frame\n",
    "            A data frame that contains ABR time series in each row.\n",
    "            \n",
    "        _colums : list\n",
    "            Columns that may contain duplicates.\n",
    "            \n",
    "    Returns\n",
    "    -------\n",
    "        A pandas-data-frame containing the duplicated rows from the input data frame.           \n",
    "    \"\"\"\n",
    "    return pd.concat(g for _, g in _df.groupby(_columns) if len(g) > 1)"
   ]
  },
  {
   "cell_type": "code",
   "execution_count": null,
   "metadata": {
    "ExecuteTime": {
     "end_time": "2021-04-20T19:56:46.660052Z",
     "start_time": "2021-04-20T19:56:46.625731Z"
    },
    "code_folding": []
   },
   "outputs": [],
   "source": [
    "def parse_file_content(_file_content, _df, _sound_levels):\n",
    "    \"\"\"\n",
    "    Parses the contents of an ABR raw data file.\n",
    "    \n",
    "    Parameters\n",
    "    ----------\n",
    "        _file_content : bytes\n",
    "            The bytes of a file in a zip-archive.\n",
    "        \n",
    "        _df : pandas-data-frame\n",
    "            An empty data frame with specific columns to store the results.\n",
    "            \n",
    "        _sound_levels : list\n",
    "            List of potential sound pressure levels.\n",
    "            \n",
    "    Returns\n",
    "    ----------\n",
    "        _df : pandas-data-frame\n",
    "            The input data frame populated with the contents of the file. \n",
    "    \"\"\"\n",
    "    delimiter = '='\n",
    "    \n",
    "    idx = len(_df.index) - 1\n",
    "    \n",
    "    for item in str(_file_content,'utf-8').split('\\r\\n'):\n",
    "        if delimiter in item:\n",
    "            row = item.split(delimiter)\n",
    "            if row[0]:\n",
    "                row[0] = row[0].strip()\n",
    "                \n",
    "                if row[0] == 'TraceName':\n",
    "                    _continue = ('ABR' in row[1])\n",
    "                    if _continue:\n",
    "                        split = row[1].split(',')\n",
    "                        mouse_id = split[0].strip()\n",
    "                        freq = int(split[1].strip())\n",
    "                        sl = int(split[2].strip())\n",
    "                        _continue = sl in _sound_levels\n",
    "                elif row[0] == 'TraceInfo':\n",
    "                    if _continue:\n",
    "                        steps = row[1].split(',')[2]\n",
    "                        _continue = int(steps) == time_steps\n",
    "                        if _continue:\n",
    "                            idx += 1\n",
    "                            j = 1\n",
    "                elif 'TraceData' in row[0]:\n",
    "                    if _continue:\n",
    "                        _df.at[idx, 'mouse_id'] = mouse_id\n",
    "                        _df.at[idx, 'frequency'] = freq\n",
    "                        _df.at[idx, 'sound_level'] = sl\n",
    "                        _df.at[idx, 'test'] = False\n",
    "                        \n",
    "                        for elem in row[1].split(','):\n",
    "                            try:\n",
    "                                _df.at[idx, 't'+str(j)] = float(elem.strip())\n",
    "                                j+=1\n",
    "                            except ValueError:\n",
    "                                print(\"error on\",elem,\"!\")\n",
    "                elif 'Electrode Amplifier' in row[0]:\n",
    "                    if _continue: \n",
    "                        _df.at[idx, 'test'] = True\n",
    "                    \n",
    "    return _df"
   ]
  },
  {
   "cell_type": "code",
   "execution_count": null,
   "metadata": {
    "ExecuteTime": {
     "end_time": "2021-04-20T08:16:50.484147Z",
     "start_time": "2021-04-20T08:16:50.451053Z"
    },
    "code_folding": []
   },
   "outputs": [],
   "source": [
    "def parse_zip_file2csv(_file, _columns, _sound_levels): \n",
    "    \"\"\"\n",
    "    Extracts a given zip archive, parses the contents of the extracted raw data files and saves the results \n",
    "    in a single csv file. \n",
    "    \n",
    "    Parameters\n",
    "    ----------\n",
    "        _file : string\n",
    "            The name of the ABR raw data files zip archive.\n",
    "    \n",
    "        _columns : list\n",
    "            The columns of the csv file containing raw data from the archive.\n",
    "            \n",
    "        _sound_levels : list\n",
    "            List of potential sound pressure levels.\n",
    "            \n",
    "        _path2file : string, default '../data/ING/tmp/'\n",
    "            Path to csv file.\n",
    "    \n",
    "    \"\"\"\n",
    "    with ZipFile(_file, 'r') as zipFile: \n",
    "        \n",
    "        fileNames = zipFile.namelist()\n",
    "    \n",
    "        fname = os.path.splitext(os.path.basename(_file))[0] + '.csv'\n",
    "        fname = _path2file + fname\n",
    "    \n",
    "        for idx, fileName in enumerate(fileNames, 1):\n",
    "            \n",
    "            start_time = time.time() \n",
    "            extractedFile = zipFile.read(fileName)\n",
    "            \n",
    "            df = parse_file_content(extractedFile, pd.DataFrame(columns=_columns), _sound_levels)\n",
    "            df = df.dropna().reset_index()\n",
    "            \n",
    "            with open(fname, 'a') as f:\n",
    "                df.to_csv(f, mode='a', header=f.tell()==0, index=False)\n",
    "            del df\n",
    "\n",
    "            elapsed_time = time.time() - start_time\n",
    "            \n",
    "            print('%d. file: %s (%s)' % (idx, fileName, time.strftime(\"%H:%M:%S\", time.gmtime(elapsed_time))))"
   ]
  },
  {
   "cell_type": "code",
   "execution_count": null,
   "metadata": {
    "ExecuteTime": {
     "end_time": "2021-04-26T09:40:23.569181Z",
     "start_time": "2021-04-26T09:40:23.541559Z"
    }
   },
   "outputs": [],
   "source": [
    "def cleanup_dataset(_df):\n",
    "    '''\n",
    "    Cleans up the ABR raw data set.\n",
    "    \n",
    "    Excludes test traces, drops duplicates and \n",
    "    calculates mean value in case of multiple time series for same mouse, frequency and sound level.\n",
    "    '''\n",
    "    # exclude test traces\n",
    "    _df1 = _df[_df.test == False]\n",
    "    \n",
    "    # drop duplicates\n",
    "    _df2 = _df1.drop_duplicates()\n",
    "    \n",
    "    # keep mean in case of multiple time series for same mouse, frequency and sound level\n",
    "    _df3 = _df2.groupby(['mouse_id', 'frequency', 'sound_level']).mean().reset_index()\n",
    "    \n",
    "    return _df3"
   ]
  },
  {
   "cell_type": "markdown",
   "metadata": {},
   "source": [
    "# Get list of zip archives"
   ]
  },
  {
   "cell_type": "code",
   "execution_count": null,
   "metadata": {
    "ExecuteTime": {
     "end_time": "2021-04-20T08:16:53.422810Z",
     "start_time": "2021-04-20T08:16:53.387477Z"
    }
   },
   "outputs": [],
   "source": [
    "zip_files = glob.glob(path2data + '/*.zip')\n",
    "for zip_file in enumerate(sorted(zip_files), 1):\n",
    "    print('%d. %s' % os.path.basename(zip_file))"
   ]
  },
  {
   "cell_type": "markdown",
   "metadata": {},
   "source": [
    "# Create csv files\n",
    "\n",
    "* extract the zip archives\n",
    "* for each archive, parse the extracted raw data files into a single csv file"
   ]
  },
  {
   "cell_type": "code",
   "execution_count": null,
   "metadata": {
    "ExecuteTime": {
     "end_time": "2021-04-20T09:10:42.293791Z",
     "start_time": "2021-04-20T08:19:28.757732Z"
    }
   },
   "outputs": [],
   "source": [
    "start_time = time.time()\n",
    "print('\\nStart time: ', time.strftime(\"%H:%M:%S\", time.gmtime(start_time)))\n",
    "\n",
    "for idx, zip_file in enumerate(zip_files, start=1):\n",
    "    basename = os.path.basename(zip_file)\n",
    "    print('\\n%d. zip archive: %s\\n' % (idx, basename))\n",
    "    if not os.path.exists(os.path.splitext(basename)[0] + '.csv'):\n",
    "        try: \n",
    "            parse_zip_file2csv(zip_file, columns, sound_levels)\n",
    "        except NotImplementedError:\n",
    "             print('%s: %s' % ('NotImplementedError', basename))\n",
    "        except NameError:\n",
    "            print('%s: %s' % ('NameError', basename))\n",
    "\n",
    "elapsed_time = time.time() - start_time            \n",
    "print('\\nElapsed time: %s' % time.strftime(\"%H:%M:%S\", time.gmtime(elapsed_time)))"
   ]
  },
  {
   "cell_type": "markdown",
   "metadata": {},
   "source": [
    "# Create ABR data set"
   ]
  },
  {
   "cell_type": "code",
   "execution_count": null,
   "metadata": {
    "ExecuteTime": {
     "end_time": "2021-04-26T09:40:27.645606Z",
     "start_time": "2021-04-26T09:40:27.612343Z"
    }
   },
   "outputs": [],
   "source": [
    "\"\"\"Get the list of csv files\"\"\"\n",
    "csv_files = glob.glob('../data/ING/tmp/*.csv')\n",
    "for idx, csv_file in enumerate(sorted(csv_files),1):\n",
    "    print('%d. %s' % (idx, os.path.basename(csv_file)))"
   ]
  },
  {
   "cell_type": "code",
   "execution_count": null,
   "metadata": {
    "ExecuteTime": {
     "end_time": "2021-04-26T09:47:49.708124Z",
     "start_time": "2021-04-26T09:40:31.095912Z"
    },
    "scrolled": true
   },
   "outputs": [],
   "source": [
    "\"\"\"Process data from the csv files to create an ABR data set\"\"\"\n",
    "df = None\n",
    "for idx, file in enumerate(csv_files, 1):\n",
    "    print('%d. %s' % (idx, os.path.basename(csv_file)))\n",
    "    try:\n",
    "        _df1 = pd.read_csv(file)\n",
    "        _df1 = _df1[_df1.frequency.isin(freqs) & _df1.sound_level.isin(sound_levels)]\n",
    "        _df1.drop(columns=['index'], inplace=True)\n",
    "        _df2 = cleanup_data(_df1)\n",
    "        \n",
    "        print('  stimulus frequencies: %s' % set(_df2.frequency))\n",
    "        print('  sound levels: %s' % set(_df2.sound_level))\n",
    "        print('  number of mouse ids: %d' % _df2.mouse_id.nunique())\n",
    "        \n",
    "        if df is None: \n",
    "            df = _df2.copy()\n",
    "        else: \n",
    "            df = pd.concat([df, _df2.copy()], ignore_index=True)\n",
    "            \n",
    "        del _df2\n",
    "        del _df1\n",
    "        \n",
    "    except Exception: \n",
    "        print('Error :-(')\n",
    "df.head()"
   ]
  },
  {
   "cell_type": "code",
   "execution_count": null,
   "metadata": {
    "ExecuteTime": {
     "end_time": "2021-04-26T09:48:00.811473Z",
     "start_time": "2021-04-26T09:48:00.777254Z"
    }
   },
   "outputs": [],
   "source": [
    "\"\"\"Check if any test curves in the data set\"\"\"\n",
    "if True not in df.test.unique():\n",
    "    print('There are no test curves in the data set.')\n",
    "else: \n",
    "    print('The data set also contains test curves.')"
   ]
  },
  {
   "cell_type": "code",
   "execution_count": null,
   "metadata": {
    "ExecuteTime": {
     "end_time": "2021-04-26T09:48:01.838540Z",
     "start_time": "2021-04-26T09:48:01.759772Z"
    }
   },
   "outputs": [],
   "source": [
    "\"\"\"Get number of mice in the data set\"\"\"\n",
    "print('Mice: %d' % df.mouse_id.nunique())"
   ]
  },
  {
   "cell_type": "markdown",
   "metadata": {},
   "source": [
    "# Create mouse phenotyping data set"
   ]
  },
  {
   "cell_type": "code",
   "execution_count": null,
   "metadata": {
    "ExecuteTime": {
     "end_time": "2021-04-26T09:48:20.477527Z",
     "start_time": "2021-04-26T09:48:11.951373Z"
    }
   },
   "outputs": [],
   "source": [
    "\"\"\"Define path to file containing the mouse phenotyping data set\"\"\"\n",
    "file = os.path.join(path2data, 'ABR_RESOURCE_Mouse ID.xlsx')\n",
    "\"\"\"Read first Excel spreasheet\"\"\"\n",
    "mouse_data = pd.read_excel(file, sheet_name='Pipeline2 Controls', engine='openpyxl', usecols='B:R', parse_dates=True)\n",
    "\"\"\"Delete empty rows\"\"\"\n",
    "mouse_data = mouse_data.dropna(axis=0, how='all').reset_index()\n",
    "\"\"\"Delete the index column\"\"\"\n",
    "mouse_data.drop(columns=['index'], inplace=True)\n",
    "\"\"\"Fill in the cohort type column. Possible values: 'con' for controls, 'mut' for mutants\"\"\"\n",
    "mouse_data.at[:,'cohort_type'] = 'con'\n",
    "\"\"\"Read remaining Excel spreadsheets\"\"\"\n",
    "for sheet in ['Pipeline2 Mutants', 'MouseGP Controls', 'MouseGP Mutants', 'MGP Select Controls', 'MGP Select Mutants']:\n",
    "    _mouse_data = pd.read_excel(file, sheet_name=sheet, engine='openpyxl', usecols='B:R', parse_dates=True)\n",
    "    _mouse_data = _mouse_data.dropna(axis=0, how='all').reset_index()\n",
    "    _mouse_data.drop(columns=['index'], inplace=True)\n",
    "    _mouse_data.rename(columns={'Prefix': 'Colony Prefix', \n",
    "                                'Barcode': 'Mouse Barcode', \n",
    "                                'Name': 'Mouse Name', \n",
    "                                'Age': 'Age at Test'}, inplace=True)\n",
    "    if 'Mutants' in sheet: \n",
    "        _mouse_data.at[:,'cohort_type'] = 'mut'\n",
    "    else:\n",
    "        _mouse_data.at[:,'cohort_type'] = 'con'\n",
    "    mouse_data = mouse_data.append(_mouse_data, ignore_index=True)\n",
    "display(mouse_data.head(5))"
   ]
  },
  {
   "cell_type": "code",
   "execution_count": null,
   "metadata": {
    "ExecuteTime": {
     "end_time": "2021-04-26T09:48:24.185074Z",
     "start_time": "2021-04-26T09:48:24.141318Z"
    }
   },
   "outputs": [],
   "source": [
    "\"\"\"Delete rows that do not have a valid mouse barcode\"\"\"\n",
    "mouse_data = mouse_data[mouse_data['Mouse Barcode'] != 'Mouse Barcode'].reset_index(drop=True)\n",
    "\"\"\"Define new column for mouse IDs\"\"\"\n",
    "mouse_data['mouse_id'] = mouse_data['Mouse Barcode'] + ' ABR'"
   ]
  },
  {
   "cell_type": "code",
   "execution_count": null,
   "metadata": {},
   "outputs": [],
   "source": [
    "\"\"\"Check if the number of mice in the data set changed\"\"\"\n",
    "print('Mice: %d' % mouse_data.mouse_id.nunique())"
   ]
  },
  {
   "cell_type": "code",
   "execution_count": null,
   "metadata": {
    "ExecuteTime": {
     "end_time": "2021-04-26T09:48:27.777460Z",
     "start_time": "2021-04-26T09:48:27.709502Z"
    }
   },
   "outputs": [],
   "source": [
    "\"\"\"Always keep the first of duplicated rows\"\"\"\n",
    "mouse_data = mouse_data.drop_duplicates(['mouse_id', 'Click Threshold', '6kHz Threshold', '12kHz Threshold', '18kHz Threshold', '24kHz Threshold', '30kHz Threshold'])\n",
    "\"\"\"Check if duplicated rows still exist\"\"\"\n",
    "duplicated = mouse_data[mouse_data.duplicated(['mouse_id', 'Click Threshold', '6kHz Threshold', '12kHz Threshold', '18kHz Threshold', '24kHz Threshold', '30kHz Threshold'])]\n",
    "if duplicated.empty:\n",
    "    print('There are no duplicated rows.')\n",
    "else:\n",
    "    display(duplicated)"
   ]
  },
  {
   "cell_type": "code",
   "execution_count": null,
   "metadata": {
    "ExecuteTime": {
     "end_time": "2021-04-26T09:48:29.386503Z",
     "start_time": "2021-04-26T09:48:29.354163Z"
    }
   },
   "outputs": [],
   "source": [
    "\"\"\"Check if the number of mice in the data set changed\"\"\"\n",
    "print('Mice: %d' % mouse_data.mouse_id.nunique())"
   ]
  },
  {
   "cell_type": "code",
   "execution_count": null,
   "metadata": {
    "ExecuteTime": {
     "end_time": "2021-04-26T09:48:33.665326Z",
     "start_time": "2021-04-26T09:48:33.626361Z"
    }
   },
   "outputs": [],
   "source": [
    "\"\"\"Check for possible values for frequency-specific hearing thresholds\"\"\"\n",
    "print('Existing hearing thresholds')\n",
    "for col in ['Click Threshold', '6kHz Threshold', '12kHz Threshold', '18kHz Threshold', '24kHz Threshold', '30kHz Threshold']:\n",
    "    print(' * %s [dB]: %s' % (col.split(' ')[0], sorted(list(mouse_data[col].unique()))))"
   ]
  },
  {
   "cell_type": "markdown",
   "metadata": {},
   "source": [
    "# Save data sets to csv"
   ]
  },
  {
   "cell_type": "code",
   "execution_count": null,
   "metadata": {
    "ExecuteTime": {
     "end_time": "2021-04-26T09:48:42.659134Z",
     "start_time": "2021-04-26T09:48:37.329423Z"
    }
   },
   "outputs": [],
   "source": [
    "\"\"\"Make sure that mouse phenotyping data are available for all mice with measured ABR curves\"\"\"\n",
    "df = df[df.mouse_id.isin(mouse_data.mouse_id.unique())].reset_index(drop=True)\n",
    "print('Mice with measured ABR curves: %d' % df.mouse_id.nunique())"
   ]
  },
  {
   "cell_type": "code",
   "execution_count": null,
   "metadata": {
    "ExecuteTime": {
     "end_time": "2021-04-26T09:48:45.011137Z",
     "start_time": "2021-04-26T09:48:44.927159Z"
    }
   },
   "outputs": [],
   "source": [
    "\"\"\"Make sure that ABR curves have been measured for all mice with phenotyping data\"\"\"\n",
    "mouse_data = mouse_data[mouse_data.mouse_id.isin(df.mouse_id.unique())].reset_index(drop=True)\n",
    "print('Mice with phenotyping data: %d' % mouse_data.mouse_id.nunique())"
   ]
  },
  {
   "cell_type": "code",
   "execution_count": null,
   "metadata": {
    "ExecuteTime": {
     "end_time": "2021-04-26T09:48:49.246176Z",
     "start_time": "2021-04-26T09:48:49.217346Z"
    }
   },
   "outputs": [],
   "source": [
    "\"\"\"Map the hearing threshold columns to corresponding stimulus frequencies\"\"\"\n",
    "col_mapping = {100: 'Click Threshold', \n",
    "              6000: '6kHz Threshold', \n",
    "              12000: '12kHz Threshold', \n",
    "              18000: '18kHz Threshold', \n",
    "              24000: '24kHz Threshold', \n",
    "              30000: '30kHz Threshold'}"
   ]
  },
  {
   "cell_type": "code",
   "execution_count": null,
   "metadata": {
    "ExecuteTime": {
     "end_time": "2021-04-26T09:55:52.837912Z",
     "start_time": "2021-04-26T09:55:30.996524Z"
    }
   },
   "outputs": [],
   "source": [
    "\"\"\"Add a hearing threshold column to the ABR data set\"\"\"\n",
    "df1 = None\n",
    "for freq in col_mapping:\n",
    "    print('stimulus frequency: %d%s' % (freq, '' if freq == 100 else 'Hz'))\n",
    "    col = col_mapping[freq]\n",
    "    df_freq = df.loc[df.frequency == freq]\n",
    "    df_freq = pd.merge(left=df_freq, right=mouse_data[['mouse_id', col]], on='mouse_id', how='left')\n",
    "    df_freq.rename(columns={col: 'threshold'}, inplace=True)\n",
    "    if df1 is None:\n",
    "        print(' create df1 ...')\n",
    "        df1 = df_freq.copy()\n",
    "    else: \n",
    "        print(' concat results ...')\n",
    "        df1 = pd.concat([df1, df_freq])\n",
    "    del df_freq    \n",
    "display(df1.head(5))\n",
    "\n",
    "del df"
   ]
  },
  {
   "cell_type": "code",
   "execution_count": null,
   "metadata": {
    "ExecuteTime": {
     "end_time": "2021-04-26T10:02:01.640114Z",
     "start_time": "2021-04-26T09:59:13.165473Z"
    }
   },
   "outputs": [],
   "source": [
    "\"\"\"Always keep the first of duplicated rows\"\"\"  \n",
    "df1 = df1.drop_duplicates()\n",
    "\"\"\"Check if duplicated rows still exist\"\"\"\n",
    "duplicated = df1[df1.duplicated()]\n",
    "if duplicated.empty: \n",
    "    print('There are no duplicated rows.')\n",
    "else:\n",
    "    display(duplicated)"
   ]
  },
  {
   "cell_type": "code",
   "execution_count": null,
   "metadata": {
    "ExecuteTime": {
     "end_time": "2021-04-26T10:02:08.965826Z",
     "start_time": "2021-04-26T10:02:08.889867Z"
    }
   },
   "outputs": [],
   "source": [
    "\"\"\"Check if number of mice in the data set changed\"\"\"\n",
    "print('Mice: %d' % df1.mouse_id.nunique())"
   ]
  },
  {
   "cell_type": "code",
   "execution_count": null,
   "metadata": {
    "ExecuteTime": {
     "end_time": "2021-04-26T10:02:10.657221Z",
     "start_time": "2021-04-26T10:02:10.624310Z"
    }
   },
   "outputs": [],
   "source": [
    "\"\"\"List existing stimulus frequencies\"\"\"\n",
    "print('Existing stimulus frequencies: %s' % df1.frequency.unique())\n",
    "\"\"\"List existing sound levels\"\"\"\n",
    "print('Existing sound levels: %s' % df1.sound_level.unique())"
   ]
  },
  {
   "cell_type": "code",
   "execution_count": null,
   "metadata": {
    "ExecuteTime": {
     "end_time": "2021-04-26T10:07:20.871290Z",
     "start_time": "2021-04-26T10:07:20.696431Z"
    }
   },
   "outputs": [],
   "source": [
    "\"\"\"Replace NaN threshold values\"\"\"\n",
    "AUL = 999\n",
    "df1['threshold'] = df1['threshold'].fillna(AUL)\n",
    "df1['threshold'] = df1['threshold'].astype('int32')\n",
    "print('Existing hearing thresholds [dB]: %s' % sorted(df1['threshold'].unique()))"
   ]
  },
  {
   "cell_type": "code",
   "execution_count": null,
   "metadata": {
    "ExecuteTime": {
     "end_time": "2021-04-26T10:09:56.643917Z",
     "start_time": "2021-04-26T10:09:53.447963Z"
    }
   },
   "outputs": [],
   "source": [
    "\"\"\"Keep only sound levels from the potential sound levels list\"\"\"\n",
    "df1 = df1[df1.threshold.isin(sound_levels + [AUL])]\n",
    "print('Existing hearing thresholds [dB]: %s' % sorted(df1['threshold'].unique()))"
   ]
  },
  {
   "cell_type": "code",
   "execution_count": null,
   "metadata": {
    "ExecuteTime": {
     "end_time": "2021-04-26T10:10:00.832553Z",
     "start_time": "2021-04-26T10:10:00.757451Z"
    }
   },
   "outputs": [],
   "source": [
    "\"\"\"Check if number of mice in the data set changed\"\"\"\n",
    "print('Mice: %d' % df1.mouse_id.nunique())"
   ]
  },
  {
   "cell_type": "code",
   "execution_count": null,
   "metadata": {
    "ExecuteTime": {
     "end_time": "2021-04-26T10:13:34.874975Z",
     "start_time": "2021-04-26T10:13:32.158155Z"
    }
   },
   "outputs": [],
   "source": [
    "\"\"\"Checking for mouse IDs with multiple hearing thresholds for a given stimulus frequency\"\"\"\n",
    "mouse_ids = df1[df1.columns.drop('threshold')][df1[df1.columns.drop('threshold')].duplicated()].mouse_id.unique()\n",
    "print('Mouse IDs: %s' % mouse_ids)\n",
    "\"\"\"Exclude these mouse IDs from the data set\"\"\"\n",
    "if mouse_ids.any(): \n",
    "    display(mouse_data[mouse_data.mouse_id.isin(mouse_ids)])\n",
    "    df2 = df1[~df1.mouse_id.isin(mouse_ids)]\n",
    "\n",
    "del df1"
   ]
  },
  {
   "cell_type": "code",
   "execution_count": null,
   "metadata": {
    "ExecuteTime": {
     "end_time": "2021-04-26T10:14:02.075805Z",
     "start_time": "2021-04-26T10:14:01.991582Z"
    }
   },
   "outputs": [],
   "source": [
    "\"\"\"Make sure the mouse phenotyping data set contains only mice having ABR curves measured for valid sound levels\"\"\"\n",
    "mouse_data2 = mouse_data[mouse_data.mouse_id.isin(df2.mouse_id.unique())].reset_index(drop=True)"
   ]
  },
  {
   "cell_type": "code",
   "execution_count": null,
   "metadata": {
    "ExecuteTime": {
     "end_time": "2021-04-26T10:14:03.737433Z",
     "start_time": "2021-04-26T10:14:03.609877Z"
    }
   },
   "outputs": [],
   "source": [
    "\"\"\"Both data sets should have the same number of mice\"\"\"\n",
    "print('%d mice with ABR curves = %d mice with phenotyping data : %s' % (df2.mouse_id.nunique(), mouse_data2.mouse_id.nunique(), (df2.mouse_id.nunique()==mouse_data2.mouse_id.nunique())))"
   ]
  },
  {
   "cell_type": "code",
   "execution_count": null,
   "metadata": {
    "ExecuteTime": {
     "end_time": "2021-04-26T10:15:13.758202Z",
     "start_time": "2021-04-26T10:15:11.660803Z"
    }
   },
   "outputs": [],
   "source": [
    "\"\"\"Rename time step columns to start from t0\"\"\"\n",
    "rename_map = {}\n",
    "for i in range(1, 1954): \n",
    "    rename_map['t' + str(i)] = 't' + str(i-1)\n",
    "    \n",
    "df2 = df2.rename(columns=rename_map)    \n",
    "df2.columns"
   ]
  },
  {
   "cell_type": "code",
   "execution_count": null,
   "metadata": {
    "ExecuteTime": {
     "end_time": "2021-04-26T10:48:16.275941Z",
     "start_time": "2021-04-26T10:16:25.475993Z"
    }
   },
   "outputs": [],
   "source": [
    "\"\"\"Save ABR curves data set to csv file\"\"\"\n",
    "df2[df2.columns.drop('test')].to_csv('../data/ING/ING_abr_curves.csv', index=False)\n",
    "display(df2.head(5))"
   ]
  },
  {
   "cell_type": "code",
   "execution_count": null,
   "metadata": {
    "ExecuteTime": {
     "end_time": "2021-04-26T10:48:16.391444Z",
     "start_time": "2021-04-26T10:48:16.277474Z"
    }
   },
   "outputs": [],
   "source": [
    "\"\"\"Save mouse phenotyping data set to csv file\"\"\"\n",
    "mouse_data2.to_csv('../data/ING/ING_mouse_data.csv', index=False)\n",
    "display(mouse_data2.head(5))"
   ]
  },
  {
   "cell_type": "markdown",
   "metadata": {},
   "source": [
    "# Plot some curves"
   ]
  },
  {
   "cell_type": "code",
   "execution_count": null,
   "metadata": {
    "ExecuteTime": {
     "end_time": "2021-04-20T09:47:18.141409Z",
     "start_time": "2021-04-20T09:47:18.111080Z"
    }
   },
   "outputs": [],
   "source": [
    "import matplotlib.gridspec as gridspec\n",
    "import matplotlib.ticker as ticker\n",
    "\n",
    "import random"
   ]
  },
  {
   "cell_type": "code",
   "execution_count": null,
   "metadata": {
    "ExecuteTime": {
     "end_time": "2021-04-20T09:47:19.790059Z",
     "start_time": "2021-04-20T09:47:19.707796Z"
    }
   },
   "outputs": [],
   "source": [
    "\"\"\"Create random list of mouse IDs\"\"\"\n",
    "mice = random.sample(list(df2.mouse_id.unique()), 100)"
   ]
  },
  {
   "cell_type": "code",
   "execution_count": null,
   "metadata": {
    "ExecuteTime": {
     "end_time": "2021-04-20T09:47:30.346093Z",
     "start_time": "2021-04-20T09:47:26.386259Z"
    }
   },
   "outputs": [],
   "source": [
    "plt.rcParams['figure.figsize'] = [10, 8]\n",
    "\n",
    "\"\"\"Define columns with time series data\"\"\"\n",
    "data_cols = ['t%d' %i for i in range(1, 1951)] \n",
    "\n",
    "data_range = range(1, 1951)\n",
    "\n",
    "for mouse in mice[:1]: \n",
    "    \n",
    "    fig = plt.figure(constrained_layout=True, figsize=(80, 64))\n",
    "\n",
    "    sound_levels = df2['sound_level'].unique()\n",
    "    df = df2[df2.mouse_id == mouse]\n",
    "\n",
    "    cols = 2\n",
    "    rows = 3 #int(len(df.frequency.unique()) / cols)\n",
    "    col = 0\n",
    "    row = 0\n",
    "    spec = gridspec.GridSpec(ncols=cols, nrows=rows, figure=fig)\n",
    "    f_ax = {}\n",
    "\n",
    "    print('Existing stimulus frequencies: %s' % df.frequency.unique())\n",
    "    \n",
    "    for idx, freq in enumerate(df.frequency.unique()):\n",
    "\n",
    "        f_ax[idx] = fig.add_subplot(spec[row, col])\n",
    "        if freq == 100: \n",
    "            f_ax[idx].set_title('Click')\n",
    "        else:\n",
    "            f_ax[idx].set_title('%dkHz' % (freq/1000))\n",
    "        f_ax[idx].set_yticks(sound_levels)\n",
    "\n",
    "        \"\"\"Get hearing threshold for given stimulus frequency\"\"\"\n",
    "        human_thr = None\n",
    "        thr = df[df['frequency'] == freq]['threshold'].unique()\n",
    "        if len(thr) > 0:\n",
    "            human_thr = thr[0]\n",
    "        \"\"\"Plot the curves\"\"\"\n",
    "        plt.rcParams.update({'font.size': 20})\n",
    "        f_ax[idx].set_xlabel('Timesteps [overall 10ms]')\n",
    "        f_ax[idx].set_ylabel('Sound level [dB]')\n",
    "        if freq == 100:\n",
    "            f_ax[idx].set_title('Click - manually assigned threshold: %sdB' % human_thr)\n",
    "        else:\n",
    "            f_ax[idx].set_title('%dkHz - manually assigned threshold: %sdB' % (freq/1000, human_thr))\n",
    "\n",
    "        for sound_level in df.loc[df['frequency'] == freq, 'sound_level']:\n",
    "            f_ax[idx].plot(data_range, sound_level +\n",
    "                           2.5 * df[(df['sound_level'] == sound_level) & (df['frequency'] == freq)][data_cols].iloc[0],\n",
    "                           linewidth=2.5)\n",
    "\n",
    "        if human_thr and human_thr != 999:\n",
    "            f_ax[idx].hlines(y=human_thr,\n",
    "                             xmin=data_range[0], xmax=data_range[-1],\n",
    "                             linewidth=2.5, linestyles='dotted')\n",
    "\n",
    "        col += 1\n",
    "        if col == cols:\n",
    "            row += 1\n",
    "            col = 0\n",
    "\n",
    "        labels = [sl for sl in sound_levels]\n",
    "        f_ax[idx].yaxis.set_major_formatter(ticker.FixedFormatter(labels))\n",
    "\n",
    "    fig.suptitle('Mouse ID: %s' % mouse, fontsize=24)\n",
    "#     _file = 'curves/' + mouse.replace(' ', '_')\n",
    "#     plt.savefig(_file)"
   ]
  },
  {
   "cell_type": "markdown",
   "metadata": {},
   "source": [
    "---"
   ]
  }
 ],
 "metadata": {
  "hide_input": false,
  "kernelspec": {
   "display_name": "Python 3 (ipykernel)",
   "language": "python",
   "name": "python3"
  },
  "language_info": {
   "codemirror_mode": {
    "name": "ipython",
    "version": 3
   },
   "file_extension": ".py",
   "mimetype": "text/x-python",
   "name": "python",
   "nbconvert_exporter": "python",
   "pygments_lexer": "ipython3",
   "version": "3.7.11"
  },
  "toc": {
   "base_numbering": 1,
   "nav_menu": {},
   "number_sections": true,
   "sideBar": true,
   "skip_h1_title": false,
   "title_cell": "Table of Contents",
   "title_sidebar": "Contents",
   "toc_cell": false,
   "toc_position": {
    "height": "calc(100% - 180px)",
    "left": "10px",
    "top": "150px",
    "width": "165px"
   },
   "toc_section_display": true,
   "toc_window_display": false
  },
  "varInspector": {
   "cols": {
    "lenName": 16,
    "lenType": 16,
    "lenVar": 40
   },
   "kernels_config": {
    "python": {
     "delete_cmd_postfix": "",
     "delete_cmd_prefix": "del ",
     "library": "var_list.py",
     "varRefreshCmd": "print(var_dic_list())"
    },
    "r": {
     "delete_cmd_postfix": ") ",
     "delete_cmd_prefix": "rm(",
     "library": "var_list.r",
     "varRefreshCmd": "cat(var_dic_list()) "
    }
   },
   "types_to_exclude": [
    "module",
    "function",
    "builtin_function_or_method",
    "instance",
    "_Feature"
   ],
   "window_display": false
  }
 },
 "nbformat": 4,
 "nbformat_minor": 4
}