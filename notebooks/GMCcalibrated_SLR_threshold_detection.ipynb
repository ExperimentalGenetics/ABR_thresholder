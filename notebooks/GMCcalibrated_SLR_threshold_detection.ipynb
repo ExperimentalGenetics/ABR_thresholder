{
 "cells": [
  {
   "cell_type": "markdown",
   "metadata": {},
   "source": [
    "# Description\n",
    "\n",
    "This notebook is used for ABR hearing threshold detection and evaluation using a sound level regression (SLR) method.</br>\n",
    "The method is calibrated here on the [GMC](https://www.mouseclinic.de/) data set used for training the convolutional neural networks.\n",
    "The model is then applied to both GMC and ING data.\n",
    "\n",
    "It is shown how to use the ABR_Threshold_Detector module to\n",
    "+ train/calibrate a threshold detector on the train data set from the [German Mouse Clinic](https://www.mouseclinic.de/) (GMC data) and estimate the thresholds\n",
    "+ save the trained model\n",
    "+ load the model\n",
    "+ apply the trained threshold estimator to data from the [German Mouse Clinic](https://www.mouseclinic.de/) and to data provided by [Ingham et. al](https://journals.plos.org/plosbiology/article?id=10.1371/journal.pbio.3000194)\n",
    "+ evaluate thresholds by comparison with a ground truth (manually assessed thresholds)\n"
   ]
  },
  {
   "cell_type": "code",
   "execution_count": null,
   "metadata": {
    "ExecuteTime": {
     "end_time": "2021-04-27T14:46:24.507502Z",
     "start_time": "2021-04-27T14:46:24.227739Z"
    }
   },
   "outputs": [],
   "source": [
    "%reload_ext autoreload\n",
    "%autoreload 2\n",
    "%matplotlib inline "
   ]
  },
  {
   "cell_type": "code",
   "execution_count": null,
   "metadata": {
    "ExecuteTime": {
     "end_time": "2021-04-27T14:46:27.167060Z",
     "start_time": "2021-04-27T14:46:27.139778Z"
    }
   },
   "outputs": [],
   "source": [
    "from IPython.core.display import display, HTML\n",
    "display(HTML(\"<style>.container { width:100% !important; }</style>\"))"
   ]
  },
  {
   "cell_type": "markdown",
   "metadata": {
    "heading_collapsed": true
   },
   "source": [
    "# Load libraries"
   ]
  },
  {
   "cell_type": "code",
   "execution_count": null,
   "metadata": {
    "ExecuteTime": {
     "end_time": "2021-04-27T14:46:31.338725Z",
     "start_time": "2021-04-27T14:46:30.330892Z"
    },
    "hidden": true
   },
   "outputs": [],
   "source": [
    "import os\n",
    "\n",
    "import pandas as pd\n",
    "import numpy as np\n",
    "\n",
    "from ABR_ThresholdFinder_SLR import ABR_Threshold_Detector_multi_stimulus\n",
    "from ABR_ThresholdFinder_SLR.evaluations import evaluate_classification_against_ground_truth, plot_evaluation_curve_for_specific_stimulus"
   ]
  },
  {
   "cell_type": "markdown",
   "metadata": {
    "heading_collapsed": true
   },
   "source": [
    "# Definitions"
   ]
  },
  {
   "cell_type": "code",
   "execution_count": null,
   "metadata": {
    "ExecuteTime": {
     "end_time": "2021-04-27T14:46:33.583374Z",
     "start_time": "2021-04-27T14:46:33.547531Z"
    },
    "hidden": true
   },
   "outputs": [],
   "source": [
    "\"\"\"Set the path to the saving location of the models\"\"\"\n",
    "path2models = '../models'\n",
    "\"\"\"Set the path to the data files, for example '../data'\"\"\"\n",
    "path2data = ''\n",
    "\n",
    "\"\"\"Name the columns containing the ABR wave time series data\"\"\"\n",
    "timeseries_columns = ['t%d' %i for i in range(1000)] "
   ]
  },
  {
   "cell_type": "markdown",
   "metadata": {
    "heading_collapsed": true
   },
   "source": [
    "# Load GMC data"
   ]
  },
  {
   "cell_type": "code",
   "execution_count": null,
   "metadata": {
    "ExecuteTime": {
     "end_time": "2021-04-27T14:48:42.155343Z",
     "start_time": "2021-04-27T14:46:35.867195Z"
    },
    "hidden": true
   },
   "outputs": [],
   "source": [
    "GMC_data = pd.read_csv(os.path.join(path2data, 'GMC', 'GMC_abr_curves.csv'), low_memory=False)"
   ]
  },
  {
   "cell_type": "markdown",
   "metadata": {
    "heading_collapsed": true
   },
   "source": [
    "# Load ING data"
   ]
  },
  {
   "cell_type": "code",
   "execution_count": null,
   "metadata": {
    "ExecuteTime": {
     "end_time": "2021-04-27T15:00:52.366701Z",
     "start_time": "2021-04-27T14:49:50.259683Z"
    },
    "hidden": true
   },
   "outputs": [],
   "source": [
    "ING_data = pd.read_csv(os.path.join(path2data, 'ING', 'ING_abr_curves.csv'), low_memory=False)"
   ]
  },
  {
   "cell_type": "markdown",
   "metadata": {
    "heading_collapsed": true
   },
   "source": [
    "# Create the GMC calibration data set"
   ]
  },
  {
   "cell_type": "code",
   "execution_count": null,
   "metadata": {
    "ExecuteTime": {
     "end_time": "2021-04-27T10:40:37.717551Z",
     "start_time": "2021-04-27T10:40:37.682101Z"
    },
    "hidden": true
   },
   "outputs": [],
   "source": [
    "train_mice = np.load(os.path.join(path2data, 'GMC', 'GMC_train_mice.npy'))"
   ]
  },
  {
   "cell_type": "code",
   "execution_count": null,
   "metadata": {
    "ExecuteTime": {
     "end_time": "2021-04-27T10:40:53.085000Z",
     "start_time": "2021-04-27T10:40:51.152506Z"
    },
    "hidden": true
   },
   "outputs": [],
   "source": [
    "\"\"\"\n",
    "Setting the calibration data set that corresponds to the GMC data set\n",
    "with which the neural networks were trained\n",
    "\"\"\"\n",
    "dataset1 = GMC_data[GMC_data.mouse_id.isin(train_mice)][['mouse_id', 'frequency', 'sound_level', 'threshold'] \n",
    "                     + timeseries_columns]\n",
    "display(dataset1.head(5))"
   ]
  },
  {
   "cell_type": "markdown",
   "metadata": {
    "heading_collapsed": true
   },
   "source": [
    "# Train threshold detector on the GMC calibration data set\n",
    "Train threshold detector on **dataset1** and save the trained model."
   ]
  },
  {
   "cell_type": "code",
   "execution_count": null,
   "metadata": {
    "ExecuteTime": {
     "end_time": "2021-04-27T10:51:28.854562Z",
     "start_time": "2021-04-27T10:42:26.913200Z"
    },
    "hidden": true
   },
   "outputs": [],
   "source": [
    "\"\"\"Initialize the threshold detector\"\"\"\n",
    "threshold_detector = ABR_Threshold_Detector_multi_stimulus(max_deg = 4,\n",
    "                                                           threshold_level = 4.0,\n",
    "                                                           karwgs_random_forest = None,\n",
    "                                                           number_of_workers = 10)\n",
    "\n",
    "\"\"\"\n",
    "Train the threshold detector on dataset1 and compute the thresholds for dataset1,\n",
    "the parameters given to the function are a pandas data frame containing the data and the \n",
    "names of the columns of the data frame\n",
    "\"\"\"\n",
    "thresholds1 = threshold_detector.fit_and_predict_data_set(mouse_id = 'mouse_id',\n",
    "                                                          sound_level = 'sound_level',\n",
    "                                                          frequency = 'frequency',\n",
    "                                                          time_series = timeseries_columns, \n",
    "                                                          data = dataset1)\n",
    "\n",
    "\"\"\"Save the trained threshold detector\"\"\"\n",
    "threshold_detector.save_model_to_file(file_name = '../models/GMCcalibrated_threshold_det.pkl')"
   ]
  },
  {
   "cell_type": "markdown",
   "metadata": {
    "heading_collapsed": true
   },
   "source": [
    "# Threshold detection on GMC data\n",
    "\n",
    "Load threshold detector from file, apply it to the [German Mouse Clinic](https://www.mouseclinic.de/) data and evaluate the results."
   ]
  },
  {
   "cell_type": "code",
   "execution_count": null,
   "metadata": {
    "ExecuteTime": {
     "end_time": "2021-04-27T15:05:23.210831Z",
     "start_time": "2021-04-27T15:05:22.223234Z"
    },
    "hidden": true
   },
   "outputs": [],
   "source": [
    "GMC_data2 = GMC_data[['mouse_id', 'frequency', 'sound_level', 'threshold'] + timeseries_columns]\n",
    "display(GMC_data2.head(5))"
   ]
  },
  {
   "cell_type": "code",
   "execution_count": null,
   "metadata": {
    "ExecuteTime": {
     "end_time": "2021-04-27T17:58:46.190636Z",
     "start_time": "2021-04-27T15:05:36.553130Z"
    },
    "hidden": true
   },
   "outputs": [],
   "source": [
    "\"\"\"Load threshold detector from file\"\"\"\n",
    "threshold_detector = ABR_Threshold_Detector_multi_stimulus(file_name = '../models/GMCcalibrated_threshold_det.pkl')\n",
    "\n",
    "\"\"\"\n",
    "Use loaded threshold detector to predict thresholds on GMC data, \n",
    "the parameters given to the function are a pandas data frame containing the data and the \n",
    "names of the columns of the data frame\n",
    "\"\"\"\n",
    "GMC_thresholds2 = threshold_detector.predict_new(mouse_id = 'mouse_id',\n",
    "                                                 sound_level = 'sound_level',\n",
    "                                                 frequency = 'frequency',\n",
    "                                                 time_series = timeseries_columns, \n",
    "                                                 data = GMC_data2)\n",
    "\n",
    "\"\"\"Append the threshold values to the result data\"\"\"\n",
    "GMC_data2['slr_estimated_thr'] = GMC_thresholds2 "
   ]
  },
  {
   "cell_type": "markdown",
   "metadata": {
    "hidden": true
   },
   "source": [
    "## Save estimations"
   ]
  },
  {
   "cell_type": "code",
   "execution_count": null,
   "metadata": {
    "ExecuteTime": {
     "end_time": "2021-04-28T05:48:32.238421Z",
     "start_time": "2021-04-28T05:48:32.111582Z"
    },
    "hidden": true
   },
   "outputs": [],
   "source": [
    "GMC_data2save = GMC_data2[['mouse_id', 'frequency', 'threshold', 'slr_estimated_thr']].drop_duplicates()\n",
    "GMC_data2save.to_csv('../reports/GMC_data_GMCcalibrated_SLR_estimations.csv', index=False)\n",
    "GMC_data2save.head()"
   ]
  },
  {
   "cell_type": "markdown",
   "metadata": {
    "hidden": true
   },
   "source": [
    "## Evaluate thresholds by comparing it with a 'ground truth' (a human set threshold in this case)"
   ]
  },
  {
   "cell_type": "code",
   "execution_count": null,
   "metadata": {
    "ExecuteTime": {
     "end_time": "2021-04-28T05:50:54.489075Z",
     "start_time": "2021-04-28T05:48:37.764380Z"
    },
    "hidden": true
   },
   "outputs": [],
   "source": [
    "# 5dB buffer\n",
    "evaluation = evaluate_classification_against_ground_truth(GMC_data2, 5, \n",
    "                                                          frequency = 'frequency',\n",
    "                                                          mouse_id = 'mouse_id',\n",
    "                                                          sound_level = 'sound_level',\n",
    "                                                          threshold_estimated = 'slr_estimated_thr',\n",
    "                                                          threshold_ground_truth = 'threshold')\n",
    "\n",
    "evaluation"
   ]
  },
  {
   "cell_type": "code",
   "execution_count": null,
   "metadata": {
    "ExecuteTime": {
     "end_time": "2021-04-28T05:54:03.665990Z",
     "start_time": "2021-04-28T05:51:46.652532Z"
    },
    "hidden": true
   },
   "outputs": [],
   "source": [
    "# 10dB buffer\n",
    "evaluation = evaluate_classification_against_ground_truth(GMC_data2, 10, \n",
    "                                                          frequency = 'frequency',\n",
    "                                                          mouse_id = 'mouse_id',\n",
    "                                                          sound_level = 'sound_level',\n",
    "                                                          threshold_estimated = 'slr_estimated_thr',\n",
    "                                                          threshold_ground_truth = 'threshold')\n",
    "\n",
    "evaluation"
   ]
  },
  {
   "cell_type": "markdown",
   "metadata": {
    "heading_collapsed": true
   },
   "source": [
    "# Threshold detection on ING data\n",
    "\n",
    "Load threshold detector from file, apply it to the data set provided by [Ingham et. al](https://journals.plos.org/plosbiology/article?id=10.1371/journal.pbio.3000194) and evaluate the results."
   ]
  },
  {
   "cell_type": "code",
   "execution_count": null,
   "metadata": {
    "ExecuteTime": {
     "end_time": "2021-04-28T11:50:53.534100Z",
     "start_time": "2021-04-28T11:50:52.499698Z"
    },
    "hidden": true
   },
   "outputs": [],
   "source": [
    "ING_data2 = ING_data[['mouse_id', 'frequency', 'sound_level', 'threshold'] + timeseries_columns]\n",
    "ING_data2.head()"
   ]
  },
  {
   "cell_type": "code",
   "execution_count": null,
   "metadata": {
    "ExecuteTime": {
     "end_time": "2021-04-28T17:36:39.941353Z",
     "start_time": "2021-04-28T11:51:08.765006Z"
    },
    "hidden": true
   },
   "outputs": [],
   "source": [
    "\"\"\"Load threshold detector from file\"\"\"\n",
    "threshold_detector = ABR_Threshold_Detector_multi_stimulus(file_name = '../models/GMCcalibrated_threshold_det.pkl')\n",
    "\n",
    "\"\"\"\n",
    "Use loaded threshold detector to predict thresholds on ING data,\n",
    "the parameters given to the function are a pandas data frame containing the data and the \n",
    "names of the columns of the data frame\n",
    "\"\"\"\n",
    "ING_thresholds2 = threshold_detector.predict_new(mouse_id = 'mouse_id',\n",
    "                                                 sound_level = 'sound_level',\n",
    "                                                 frequency = 'frequency',\n",
    "                                                 time_series = timeseries_columns, \n",
    "                                                 data = ING_data2)\n",
    "\n",
    "\"\"\"Append the threshold values to the result data set\"\"\"\n",
    "ING_data2['slr_estimated_thr'] = ING_thresholds2 "
   ]
  },
  {
   "cell_type": "markdown",
   "metadata": {
    "hidden": true
   },
   "source": [
    "## Save estimations"
   ]
  },
  {
   "cell_type": "code",
   "execution_count": null,
   "metadata": {
    "ExecuteTime": {
     "end_time": "2021-04-28T18:06:07.685050Z",
     "start_time": "2021-04-28T18:06:07.447633Z"
    },
    "hidden": true
   },
   "outputs": [],
   "source": [
    "ING_data2save = ING_data2[['mouse_id', 'frequency', 'threshold', 'slr_estimated_thr']].drop_duplicates()\n",
    "ING_data2save.to_csv('../reports/ING_data_GMCcalibrated_SLR_estimations.csv', index=False)\n",
    "ING_data2save.head()"
   ]
  },
  {
   "cell_type": "markdown",
   "metadata": {
    "hidden": true
   },
   "source": [
    "## Evaluate thresholds by comparing it with a 'ground truth' (a human set threshold in this case)"
   ]
  },
  {
   "cell_type": "code",
   "execution_count": null,
   "metadata": {
    "ExecuteTime": {
     "end_time": "2021-04-28T20:20:39.484135Z",
     "start_time": "2021-04-28T18:06:12.542790Z"
    },
    "hidden": true
   },
   "outputs": [],
   "source": [
    "# 5dB buffer\n",
    "evaluation = evaluate_classification_against_ground_truth(ING_data2, 5, \n",
    "                                                          frequency = 'frequency',\n",
    "                                                          mouse_id = 'mouse_id',\n",
    "                                                          sound_level = 'sound_level',\n",
    "                                                          threshold_estimated = 'slr_estimated_thr',\n",
    "                                                          threshold_ground_truth = 'threshold')\n",
    "\n",
    "evaluation"
   ]
  },
  {
   "cell_type": "code",
   "execution_count": null,
   "metadata": {
    "ExecuteTime": {
     "end_time": "2021-04-29T09:50:15.112596Z",
     "start_time": "2021-04-29T07:38:15.738807Z"
    },
    "hidden": true,
    "pycharm": {
     "name": "#%%\n"
    }
   },
   "outputs": [],
   "source": [
    "# 10dB buffer\n",
    "evaluation = evaluate_classification_against_ground_truth(ING_data2, 10, \n",
    "                                                          frequency = 'frequency',\n",
    "                                                          mouse_id = 'mouse_id',\n",
    "                                                          sound_level = 'sound_level',\n",
    "                                                          threshold_estimated = 'slr_estimated_thr',\n",
    "                                                          threshold_ground_truth = 'threshold')\n",
    "\n",
    "evaluation\n"
   ]
  }
 ],
 "metadata": {
  "hide_input": false,
  "kernelspec": {
   "display_name": "Python 3 (ipykernel)",
   "language": "python",
   "name": "python3"
  },
  "language_info": {
   "codemirror_mode": {
    "name": "ipython",
    "version": 3
   },
   "file_extension": ".py",
   "mimetype": "text/x-python",
   "name": "python",
   "nbconvert_exporter": "python",
   "pygments_lexer": "ipython3",
   "version": "3.7.11"
  },
  "toc": {
   "base_numbering": 1,
   "nav_menu": {},
   "number_sections": true,
   "sideBar": true,
   "skip_h1_title": false,
   "title_cell": "Table of Contents",
   "title_sidebar": "Contents",
   "toc_cell": false,
   "toc_position": {},
   "toc_section_display": true,
   "toc_window_display": false
  },
  "varInspector": {
   "cols": {
    "lenName": 16,
    "lenType": 16,
    "lenVar": 40
   },
   "kernels_config": {
    "python": {
     "delete_cmd_postfix": "",
     "delete_cmd_prefix": "del ",
     "library": "var_list.py",
     "varRefreshCmd": "print(var_dic_list())"
    },
    "r": {
     "delete_cmd_postfix": ") ",
     "delete_cmd_prefix": "rm(",
     "library": "var_list.r",
     "varRefreshCmd": "cat(var_dic_list()) "
    }
   },
   "types_to_exclude": [
    "module",
    "function",
    "builtin_function_or_method",
    "instance",
    "_Feature"
   ],
   "window_display": false
  }
 },
 "nbformat": 4,
 "nbformat_minor": 4
}