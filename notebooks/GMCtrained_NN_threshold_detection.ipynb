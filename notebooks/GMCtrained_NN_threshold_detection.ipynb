{
 "cells": [
  {
   "cell_type": "markdown",
   "metadata": {},
   "source": [
    "# Description\n",
    "\n",
    "This notebook is used to detect ABR hearing thresholds using neural networks (NN) trained on ABR data from the [German Mouse Clinic](https://www.mouseclinic.de/).</br>\n",
    "The threshold detection is done on ABR hearing curves from the [German Mouse Clinic](https://www.mouseclinic.de/) (GMC data) as well as on ABR hearing curves provided by [Ingham et. al](https://journals.plos.org/plosbiology/article?id=10.1371/journal.pbio.3000194) (ING data).\n",
    "\n",
    "Training data set: \n",
    "* all ABR hearing curves in _GMC_abr_curves.csv_ measured for the mouse ids found in _../data/GMC/train_mice.npy_.\n",
    "\n",
    "Neural network (NN) models:\n",
    "* first NN trained on GMC data: _../models/GMCtrained_model_1.h5_\n",
    "* second NN trained on GMC data: _../models/GMCtrained_model_2.h5_\n",
    "   \n",
    "Data sets for threshold detection:\n",
    "* GMC data: _GMC_abr_curves.csv_\n",
    "* ING data: _ING_abr_curves.csv_"
   ]
  },
  {
   "cell_type": "code",
   "execution_count": null,
   "metadata": {
    "ExecuteTime": {
     "end_time": "2021-04-28T07:25:42.983733Z",
     "start_time": "2021-04-28T07:25:41.734676Z"
    }
   },
   "outputs": [],
   "source": [
    "%reload_ext autoreload\n",
    "%autoreload 2\n",
    "%matplotlib inline "
   ]
  },
  {
   "cell_type": "code",
   "execution_count": null,
   "metadata": {
    "ExecuteTime": {
     "end_time": "2021-04-28T07:25:45.107078Z",
     "start_time": "2021-04-28T07:25:45.078267Z"
    }
   },
   "outputs": [],
   "source": [
    "from IPython.core.display import display, HTML\n",
    "display(HTML(\"<style>.container { width:100% !important; }</style>\"))"
   ]
  },
  {
   "cell_type": "markdown",
   "metadata": {
    "ExecuteTime": {
     "end_time": "2021-02-09T17:01:15.131004Z",
     "start_time": "2021-02-09T17:01:14.204134Z"
    }
   },
   "source": [
    "# Load libraries"
   ]
  },
  {
   "cell_type": "code",
   "execution_count": null,
   "metadata": {
    "ExecuteTime": {
     "end_time": "2021-04-28T07:25:56.494084Z",
     "start_time": "2021-04-28T07:25:47.316584Z"
    }
   },
   "outputs": [],
   "source": [
    "import os\n",
    "\n",
    "import pandas as pd\n",
    "import numpy as np\n",
    "import seaborn as sns\n",
    "import ABR_ThresholdFinder_NN.data_preparation as dataprep\n",
    "import ABR_ThresholdFinder_NN.thresholder as abrthr\n",
    "\n",
    "import matplotlib.pyplot as plt\n",
    "import matplotlib.gridspec as gridspec\n",
    "import matplotlib.ticker as ticker\n",
    "plt.rcParams['figure.figsize'] = [20, 16]\n",
    "\n",
    "os.environ[\"CUDA_VISIBLE_DEVICES\"]=\"1,2,3,4\"\n",
    "\n",
    "from tensorflow.keras.models import load_model\n",
    "\n",
    "from ABR_ThresholdFinder_NN.swish_activation_function import swish"
   ]
  },
  {
   "cell_type": "markdown",
   "metadata": {},
   "source": [
    "# Definitions"
   ]
  },
  {
   "cell_type": "code",
   "execution_count": null,
   "metadata": {
    "ExecuteTime": {
     "end_time": "2021-04-28T07:26:36.810946Z",
     "start_time": "2021-04-28T07:26:36.741908Z"
    }
   },
   "outputs": [],
   "source": [
    "\"\"\"Set the path to the model files\"\"\"\n",
    "path2models = '../models'\n",
    "\"\"\"Set the path to data files, for example '../data'\"\"\"\n",
    "path2data = ''\n",
    "\n",
    "\"\"\"Set the time step columns\"\"\"\n",
    "datacols = ['t' + str(i) for i in range(0, 1000)]"
   ]
  },
  {
   "cell_type": "markdown",
   "metadata": {},
   "source": [
    "# Utils"
   ]
  },
  {
   "cell_type": "code",
   "execution_count": null,
   "metadata": {
    "ExecuteTime": {
     "end_time": "2021-04-27T14:51:01.460761Z",
     "start_time": "2021-04-27T14:51:01.393587Z"
    },
    "code_folding": []
   },
   "outputs": [],
   "source": [
    "def plot_data_infos(_data, _validated=True, _ylim=6000):\n",
    "    \n",
    "    temp = _data.copy()\n",
    "    \n",
    "    # Mice count\n",
    "    print('Number of mice: %d' % temp.mouse_id.nunique())\n",
    "    # Classifications count\n",
    "    print('Number of classifications: %d' % temp[['mouse_id', 'frequency']].drop_duplicates().shape[0])\n",
    "    # Curves count\n",
    "    print('Number of individual curves: %d' % temp[['mouse_id', 'frequency', 'sound_level']].drop_duplicates().shape[0])\n",
    "    \n",
    "    temp['frequency'] = temp['frequency'].map({100: 'Click', 6000: '6 kHz', 12000: '12 kHz', \n",
    "                                               18000: '18 kHz', 24000: '24 kHz', 30000: '30 kHz'})\n",
    "    if 'still_hears' in temp.columns:\n",
    "        temp['still_hears'] = temp['still_hears'].map({0: 'No', 1: 'Yes'})   \n",
    "    \n",
    "    # Curves by stimulus and validation\n",
    "    if _validated:\n",
    "        plt.figure(figsize=(20,20))\n",
    "        plt.subplot(321)\n",
    "        _g1 = sns.countplot(x='frequency', hue='validated', data=temp, palette=sns.color_palette(\"colorblind\"))\n",
    "        _g1.legend(title='Validation')\n",
    "        plt.subplot(322)\n",
    "        _g2 = sns.countplot(x='frequency', hue='validated', \n",
    "                           data=temp[['mouse_id', 'frequency', 'threshold', 'validated']].drop_duplicates()) #, palette=palette1)\n",
    "        _g2.legend(title='Validation')\n",
    "        plt.subplot(323)\n",
    "    else:\n",
    "        plt.subplot(221)\n",
    "        \n",
    "    g1 = sns.countplot(x='frequency', data=temp, palette=sns.color_palette(\"colorblind\"))\n",
    "    g1.set(xlabel='Stimulus', ylabel='Count', title='Available curves per stimulus')\n",
    "\n",
    "    # Classifications by stimulus and validation\n",
    "    if _validated:\n",
    "        plt.subplot(324)\n",
    "        plt.ylim(0, _ylim)\n",
    "    else:\n",
    "        plt.subplot(222)\n",
    "    g2 = sns.countplot(x='frequency', \n",
    "                       data=temp[['mouse_id', 'frequency', 'threshold']].drop_duplicates(), palette=sns.color_palette(\"colorblind\"))\n",
    "    g2.set(xlabel='Stimulus', ylabel='Count', title='Available classifications per stimulus')\n",
    "    \n",
    "    # Classifications by stimulus and sound level\n",
    "    if _validated:\n",
    "        plt.subplot(325)\n",
    "    else:\n",
    "        plt.subplot(223)\n",
    "    g3 = sns.countplot(x='frequency', hue='sound_level', data=temp, palette=sns.color_palette(\"colorblind\")) #palette=sns.color_palette(\"light\", 20)) #, palette=palette1)\n",
    "    # g3.legend(title='Sound level')\n",
    "    g3.legend(title='Sound level', loc='center left', bbox_to_anchor=(1, 0.5), fontsize='small')\n",
    "    g3.set(xlabel='Stimulus', ylabel='Count', title='Available classifications per stimulus (sound level specific)')\n",
    "    \n",
    "    # Classifications by stimulus and threshold\n",
    "    if _validated:\n",
    "        plt.subplot(326)\n",
    "    else:\n",
    "        plt.subplot(224)\n",
    "    g4 = sns.countplot(x='frequency', hue='threshold', data=temp, palette=sns.color_palette(\"colorblind\")) #, palette=palette1)\n",
    "    # g4.legend(title='Manual threshold')\n",
    "    g4.legend(title='Manual threshold', loc='center left', bbox_to_anchor=(1, 0.5), fontsize='small')\n",
    "    g4.set(xlabel='Stimulus', ylabel='Count', title='Available classifications per stimulus (manual thresholds)')\n",
    "    plt.subplots_adjust(top=0.92, bottom=0.08, left=0.10, right=0.95, hspace=0.20, wspace=0.25)\n",
    "\n",
    "    \n",
    "    plt.show()"
   ]
  },
  {
   "cell_type": "markdown",
   "metadata": {},
   "source": [
    "# Load GMC models"
   ]
  },
  {
   "cell_type": "code",
   "execution_count": null,
   "metadata": {
    "ExecuteTime": {
     "end_time": "2021-04-28T07:41:26.341242Z",
     "start_time": "2021-04-28T07:41:23.105754Z"
    },
    "scrolled": true
   },
   "outputs": [],
   "source": [
    "GMC_model1 = load_model(os.path.join(path2models, 'GMCtrained_model_1.h5'))\n",
    "GMC_model1.summary()"
   ]
  },
  {
   "cell_type": "code",
   "execution_count": null,
   "metadata": {
    "ExecuteTime": {
     "end_time": "2021-04-28T07:41:28.856350Z",
     "start_time": "2021-04-28T07:41:28.014718Z"
    },
    "scrolled": true
   },
   "outputs": [],
   "source": [
    "GMC_model2 = load_model(os.path.join(path2models, 'GMCtrained_model_2.h5'))\n",
    "GMC_model2.summary()"
   ]
  },
  {
   "cell_type": "markdown",
   "metadata": {},
   "source": [
    "# ABR threshold detection on GMC data"
   ]
  },
  {
   "cell_type": "markdown",
   "metadata": {},
   "source": [
    "## Load GMC data"
   ]
  },
  {
   "cell_type": "code",
   "execution_count": null,
   "metadata": {
    "ExecuteTime": {
     "end_time": "2021-04-27T14:56:10.961931Z",
     "start_time": "2021-04-27T14:51:19.514025Z"
    }
   },
   "outputs": [],
   "source": [
    "GMC_data = pd.read_csv(os.path.join(path2data, 'GMC', 'GMC_abr_curves.csv'), low_memory=False)"
   ]
  },
  {
   "cell_type": "code",
   "execution_count": null,
   "metadata": {
    "ExecuteTime": {
     "end_time": "2021-04-27T14:56:48.117676Z",
     "start_time": "2021-04-27T14:56:10.964133Z"
    }
   },
   "outputs": [],
   "source": [
    "\"\"\"Checking for duplicates\"\"\"\n",
    "GMC_data[GMC_data.duplicated()]"
   ]
  },
  {
   "cell_type": "code",
   "execution_count": null,
   "metadata": {
    "ExecuteTime": {
     "end_time": "2021-04-27T14:57:31.228303Z",
     "start_time": "2021-04-27T14:56:48.119470Z"
    }
   },
   "outputs": [],
   "source": [
    "\"\"\"Checking for multiple thresholds for the same mouse ID and frequency\"\"\"\n",
    "mouse_ids = GMC_data[GMC_data.columns.drop('threshold')][GMC_data[GMC_data.columns.drop('threshold')].duplicated()].mouse_id.unique()\n",
    "mouse_ids"
   ]
  },
  {
   "cell_type": "markdown",
   "metadata": {},
   "source": [
    "## Plot data infos"
   ]
  },
  {
   "cell_type": "code",
   "execution_count": null,
   "metadata": {
    "ExecuteTime": {
     "end_time": "2021-04-27T14:57:46.646269Z",
     "start_time": "2021-04-27T14:57:42.690230Z"
    },
    "scrolled": false
   },
   "outputs": [],
   "source": [
    "plot_data_infos(GMC_data)"
   ]
  },
  {
   "cell_type": "markdown",
   "metadata": {},
   "source": [
    "## Make curve specific predictions on GMC data"
   ]
  },
  {
   "cell_type": "code",
   "execution_count": null,
   "metadata": {
    "ExecuteTime": {
     "end_time": "2021-04-27T15:49:23.863067Z",
     "start_time": "2021-04-27T15:04:55.791681Z"
    }
   },
   "outputs": [],
   "source": [
    "GMC_data1 = abrthr.make_curve_specific_predictions(GMC_data[['mouse_id', 'frequency', 'sound_level', 'threshold'] + datacols], \n",
    "                                                   GMC_model1, _ING_model=False)\n",
    "GMC_data1.head()"
   ]
  },
  {
   "cell_type": "markdown",
   "metadata": {},
   "source": [
    "## Make threshold predictions on GMC data"
   ]
  },
  {
   "cell_type": "code",
   "execution_count": null,
   "metadata": {
    "ExecuteTime": {
     "end_time": "2021-04-27T15:49:37.462609Z",
     "start_time": "2021-04-27T15:49:23.864944Z"
    }
   },
   "outputs": [],
   "source": [
    "GMC_data2 = abrthr.make_threshold_predictions(GMC_data1, GMC_model2)\n",
    "GMC_data2.head()"
   ]
  },
  {
   "cell_type": "markdown",
   "metadata": {},
   "source": [
    "## Save predictions"
   ]
  },
  {
   "cell_type": "code",
   "execution_count": null,
   "metadata": {
    "ExecuteTime": {
     "end_time": "2021-04-27T15:49:37.512858Z",
     "start_time": "2021-04-27T15:49:37.464714Z"
    }
   },
   "outputs": [],
   "source": [
    "print('GMC data')\n",
    "print(' Predicted thresholds: %s' % sorted(GMC_data2.predicted_thr.unique()))\n",
    "print(' Number of curves: %d' % GMC_data2.index.nunique())\n",
    "print(' Number of mice: %d' % GMC_data2.mouse_id.nunique())"
   ]
  },
  {
   "cell_type": "code",
   "execution_count": null,
   "metadata": {
    "ExecuteTime": {
     "end_time": "2021-04-27T15:49:37.586782Z",
     "start_time": "2021-04-27T15:49:37.516411Z"
    }
   },
   "outputs": [],
   "source": [
    "GMC_data2.rename(columns={'predicted_thr': 'nn_predicted_thr'}, inplace=True)\n",
    "if 'mouse_group' in GMC_data2.columns:\n",
    "    GMC_data2 = GMC_data2[list(GMC_data2.columns.drop('mouse_group')) + ['mouse_group']]\n",
    "GMC_data2.head()"
   ]
  },
  {
   "cell_type": "code",
   "execution_count": null,
   "metadata": {
    "ExecuteTime": {
     "end_time": "2021-04-27T15:49:38.397418Z",
     "start_time": "2021-04-27T15:49:37.588134Z"
    }
   },
   "outputs": [],
   "source": [
    "GMC_data2.to_csv('../reports/GMC_data_GMCtrained_NN_predictions.csv', index=False)"
   ]
  },
  {
   "cell_type": "markdown",
   "metadata": {},
   "source": [
    "# ABR threshold detection on ING data"
   ]
  },
  {
   "cell_type": "markdown",
   "metadata": {},
   "source": [
    "## Load ING data"
   ]
  },
  {
   "cell_type": "code",
   "execution_count": null,
   "metadata": {
    "ExecuteTime": {
     "end_time": "2021-04-28T07:37:52.744119Z",
     "start_time": "2021-04-28T07:26:48.575425Z"
    }
   },
   "outputs": [],
   "source": [
    "ING_data = pd.read_csv(os.path.join(path2data, 'ING', 'ING_abr_curves.csv'), low_memory=False)"
   ]
  },
  {
   "cell_type": "code",
   "execution_count": null,
   "metadata": {
    "ExecuteTime": {
     "end_time": "2021-04-28T06:03:06.453270Z",
     "start_time": "2021-04-28T06:01:30.145264Z"
    }
   },
   "outputs": [],
   "source": [
    "# Check for duplicates\n",
    "ING_data[ING_data.duplicated()]"
   ]
  },
  {
   "cell_type": "code",
   "execution_count": null,
   "metadata": {
    "ExecuteTime": {
     "end_time": "2021-04-28T06:06:13.663549Z",
     "start_time": "2021-04-28T06:03:06.456993Z"
    }
   },
   "outputs": [],
   "source": [
    "# Check for multiple thresholds for specific mouse ID and frequency \n",
    "mouse_ids = ING_data[ING_data.columns.drop('threshold')][ING_data[ING_data.columns.drop('threshold')].duplicated()].mouse_id.unique()\n",
    "mouse_ids"
   ]
  },
  {
   "cell_type": "markdown",
   "metadata": {},
   "source": [
    "## Plot data infos"
   ]
  },
  {
   "cell_type": "code",
   "execution_count": null,
   "metadata": {
    "ExecuteTime": {
     "end_time": "2021-04-28T06:07:15.430337Z",
     "start_time": "2021-04-28T06:07:08.614225Z"
    }
   },
   "outputs": [],
   "source": [
    "plot_data_infos(ING_data, _validated=False)"
   ]
  },
  {
   "cell_type": "markdown",
   "metadata": {},
   "source": [
    "## Make curve specific predictions on ING data"
   ]
  },
  {
   "cell_type": "code",
   "execution_count": null,
   "metadata": {
    "ExecuteTime": {
     "end_time": "2021-04-28T07:45:04.895855Z",
     "start_time": "2021-04-28T07:41:35.488499Z"
    }
   },
   "outputs": [],
   "source": [
    "ING_data1 = abrthr.make_curve_specific_predictions(ING_data[['mouse_id', 'frequency', 'sound_level', 'threshold'] + datacols], \n",
    "                                                   GMC_model1, _ING_model=False)\n",
    "ING_data1.head()"
   ]
  },
  {
   "cell_type": "markdown",
   "metadata": {},
   "source": [
    "## Make threshold predictions on ING data"
   ]
  },
  {
   "cell_type": "code",
   "execution_count": null,
   "metadata": {
    "ExecuteTime": {
     "end_time": "2021-04-28T07:49:52.640808Z",
     "start_time": "2021-04-28T07:49:28.696993Z"
    }
   },
   "outputs": [],
   "source": [
    "ING_data2 = abrthr.make_threshold_predictions(ING_data1, GMC_model2)\n",
    "ING_data2.head()"
   ]
  },
  {
   "cell_type": "markdown",
   "metadata": {},
   "source": [
    "## Save predictions"
   ]
  },
  {
   "cell_type": "code",
   "execution_count": null,
   "metadata": {
    "ExecuteTime": {
     "end_time": "2021-04-28T07:51:26.177620Z",
     "start_time": "2021-04-28T07:51:26.098964Z"
    }
   },
   "outputs": [],
   "source": [
    "print('ING data')\n",
    "print(' Predicted thresholds: %s' % sorted(ING_data2.predicted_thr.unique()))\n",
    "print(' Number of curves: %d' % ING_data2.index.nunique())\n",
    "print(' Number of mice: %d' % ING_data2.mouse_id.nunique())"
   ]
  },
  {
   "cell_type": "code",
   "execution_count": null,
   "metadata": {
    "ExecuteTime": {
     "end_time": "2021-04-28T07:51:29.014854Z",
     "start_time": "2021-04-28T07:51:28.934482Z"
    }
   },
   "outputs": [],
   "source": [
    "ING_data2.rename(columns={'predicted_thr': 'nn_predicted_thr'}, inplace=True)\n",
    "if 'mouse_group' in ING_data2.columns:\n",
    "    ING_data2 = ING_data2[list(ING_data2.columns.drop('mouse_group')) + ['mouse_group']]\n",
    "ING_data2.head()"
   ]
  },
  {
   "cell_type": "code",
   "execution_count": null,
   "metadata": {
    "ExecuteTime": {
     "end_time": "2021-04-28T07:51:33.782824Z",
     "start_time": "2021-04-28T07:51:32.209852Z"
    }
   },
   "outputs": [],
   "source": [
    "ING_data2.to_csv('../reports/ING_data_GMCtrained_NN_predictions.csv', index=False)"
   ]
  },
  {
   "cell_type": "markdown",
   "metadata": {},
   "source": [
    "---"
   ]
  }
 ],
 "metadata": {
  "hide_input": false,
  "kernelspec": {
   "display_name": "Python 3 (ipykernel)",
   "language": "python",
   "name": "python3"
  },
  "language_info": {
   "codemirror_mode": {
    "name": "ipython",
    "version": 3
   },
   "file_extension": ".py",
   "mimetype": "text/x-python",
   "name": "python",
   "nbconvert_exporter": "python",
   "pygments_lexer": "ipython3",
   "version": "3.7.11"
  },
  "toc": {
   "base_numbering": 1,
   "nav_menu": {},
   "number_sections": true,
   "sideBar": true,
   "skip_h1_title": false,
   "title_cell": "Table of Contents",
   "title_sidebar": "Contents",
   "toc_cell": false,
   "toc_position": {
    "height": "calc(100% - 180px)",
    "left": "10px",
    "top": "150px",
    "width": "165px"
   },
   "toc_section_display": true,
   "toc_window_display": false
  },
  "varInspector": {
   "cols": {
    "lenName": 16,
    "lenType": 16,
    "lenVar": 40
   },
   "kernels_config": {
    "python": {
     "delete_cmd_postfix": "",
     "delete_cmd_prefix": "del ",
     "library": "var_list.py",
     "varRefreshCmd": "print(var_dic_list())"
    },
    "r": {
     "delete_cmd_postfix": ") ",
     "delete_cmd_prefix": "rm(",
     "library": "var_list.r",
     "varRefreshCmd": "cat(var_dic_list()) "
    }
   },
   "types_to_exclude": [
    "module",
    "function",
    "builtin_function_or_method",
    "instance",
    "_Feature"
   ],
   "window_display": false
  }
 },
 "nbformat": 4,
 "nbformat_minor": 4
}
