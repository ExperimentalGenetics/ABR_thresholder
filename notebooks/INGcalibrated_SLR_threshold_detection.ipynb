{
 "cells": [
  {
   "cell_type": "markdown",
   "metadata": {},
   "source": [
    "# Description\n",
    "\n",
    "This notebook is used for ABR hearing threshold detection and evaluation using a sound level regression (SLR) method.</br>\n",
    "The method is calibrated here on the [ING](https://journals.plos.org/plosbiology/article?id=10.1371/journal.pbio.3000194) data set used for training the convolutional neural networks.\n",
    "The model is then applied to both ING and GMC data.\n",
    "\n",
    "It is shown how to use the ABR_Threshold_Detector module to\n",
    "+ train/calibrate a threshold detector on the train data set provided by [Ingham et. al](https://journals.plos.org/plosbiology/article?id=10.1371/journal.pbio.3000194) (ING data) and estimate the thresholds\n",
    "+ save the trained model\n",
    "+ load the model\n",
    "+ apply the trained threshold estimator to data from the [German Mouse Clinic](https://www.mouseclinic.de/) and to data provided by [Ingham et. al](https://journals.plos.org/plosbiology/article?id=10.1371/journal.pbio.3000194)\n",
    "+ evaluate thresholds by comparison with a ground truth (manually assessed thresholds)"
   ]
  },
  {
   "cell_type": "code",
   "execution_count": null,
   "metadata": {
    "ExecuteTime": {
     "end_time": "2021-04-29T12:16:12.697009Z",
     "start_time": "2021-04-29T12:16:12.308265Z"
    }
   },
   "outputs": [],
   "source": [
    "%reload_ext autoreload\n",
    "%autoreload 2\n",
    "%matplotlib inline "
   ]
  },
  {
   "cell_type": "code",
   "execution_count": null,
   "metadata": {
    "ExecuteTime": {
     "end_time": "2021-04-29T12:16:13.405659Z",
     "start_time": "2021-04-29T12:16:13.379305Z"
    }
   },
   "outputs": [],
   "source": [
    "from IPython.core.display import display, HTML\n",
    "display(HTML(\"<style>.container { width:100% !important; }</style>\"))"
   ]
  },
  {
   "cell_type": "markdown",
   "metadata": {},
   "source": [
    "# Load libraries"
   ]
  },
  {
   "cell_type": "code",
   "execution_count": null,
   "metadata": {
    "ExecuteTime": {
     "end_time": "2021-04-29T12:26:24.567997Z",
     "start_time": "2021-04-29T12:26:23.266329Z"
    }
   },
   "outputs": [],
   "source": [
    "import os\n",
    "\n",
    "import pandas as pd\n",
    "import numpy as np\n",
    "\n",
    "from ABR_ThresholdFinder_SLR import ABR_Threshold_Detector_multi_stimulus\n",
    "from ABR_ThresholdFinder_SLR.evaluations import evaluate_classification_against_ground_truth, plot_evaluation_curve_for_specific_stimulus"
   ]
  },
  {
   "cell_type": "markdown",
   "metadata": {},
   "source": [
    "# Definitions"
   ]
  },
  {
   "cell_type": "code",
   "execution_count": null,
   "metadata": {
    "ExecuteTime": {
     "end_time": "2021-04-29T12:26:30.432542Z",
     "start_time": "2021-04-29T12:26:30.426254Z"
    }
   },
   "outputs": [],
   "source": [
    "\"\"\"Set the path to the saving location of the models\"\"\"\n",
    "path2models = '../models'\n",
    "\"\"\"Set the path to the data files, for example '../data'\"\"\"\n",
    "path2data = ''\n",
    "\n",
    "\"\"\"Name the columns containing the ABR wave time series data\"\"\"\n",
    "timeseries_columns = ['t%d' %i for i in range(1000)] "
   ]
  },
  {
   "cell_type": "markdown",
   "metadata": {},
   "source": [
    "# Load GMC data"
   ]
  },
  {
   "cell_type": "code",
   "execution_count": null,
   "metadata": {
    "ExecuteTime": {
     "end_time": "2021-04-29T12:41:44.170560Z",
     "start_time": "2021-04-29T12:36:29.113670Z"
    }
   },
   "outputs": [],
   "source": [
    "GMC_data = pd.read_csv(os.path.join(path2data, 'GMC', 'GMC_abr_curves.csv'), low_memory=False)"
   ]
  },
  {
   "cell_type": "markdown",
   "metadata": {},
   "source": [
    "# Load ING data"
   ]
  },
  {
   "cell_type": "code",
   "execution_count": null,
   "metadata": {
    "ExecuteTime": {
     "end_time": "2021-04-29T12:34:30.888184Z",
     "start_time": "2021-04-29T12:30:36.314878Z"
    }
   },
   "outputs": [],
   "source": [
    "ING_data = pd.read_csv(os.path.join(path2data, 'ING', 'ING_abr_curves.csv'))"
   ]
  },
  {
   "cell_type": "markdown",
   "metadata": {},
   "source": [
    "# Create the ING calibration data set"
   ]
  },
  {
   "cell_type": "code",
   "execution_count": null,
   "metadata": {
    "ExecuteTime": {
     "end_time": "2021-04-29T12:51:17.691774Z",
     "start_time": "2021-04-29T12:51:17.679387Z"
    }
   },
   "outputs": [],
   "source": [
    "# save np.load\n",
    "np_load_old = np.load\n",
    "\n",
    "# modify the default parameters of np.load\n",
    "np.load = lambda *a,**k: np_load_old(*a, allow_pickle=True, **k)\n",
    "\n",
    "# call load_data with allow_pickle implicitly set to true\n",
    "train_mice = np.load(os.path.join(path2data, 'ING', 'ING_train_mice.npy'))\n",
    "    \n",
    "# restore np.load for future normal usage\n",
    "np.load = np_load_old"
   ]
  },
  {
   "cell_type": "code",
   "execution_count": null,
   "metadata": {
    "ExecuteTime": {
     "end_time": "2021-04-29T12:51:34.083248Z",
     "start_time": "2021-04-29T12:51:31.414720Z"
    }
   },
   "outputs": [],
   "source": [
    "\"\"\"\n",
    "Setting the calibration data set that corresponds to the ING data set \n",
    "with which the neural networks were trained\n",
    "\"\"\"\n",
    "dataset1 = ING_data[ING_data.mouse_id.isin(train_mice)][['mouse_id', 'frequency', 'sound_level', 'threshold'] \n",
    "                     + timeseries_columns]\n",
    "dataset1.head()"
   ]
  },
  {
   "cell_type": "markdown",
   "metadata": {},
   "source": [
    "# Train threshold detector on the ING calibration data set\n",
    "Train threshold detector on **dataset1** and save the trained model."
   ]
  },
  {
   "cell_type": "code",
   "execution_count": null,
   "metadata": {
    "ExecuteTime": {
     "end_time": "2021-04-29T16:36:07.599983Z",
     "start_time": "2021-04-29T12:59:03.455460Z"
    }
   },
   "outputs": [],
   "source": [
    "\"\"\"Initialize the threshold detector\"\"\"\n",
    "threshold_detector = ABR_Threshold_Detector_multi_stimulus(max_deg = 4,\n",
    "                                                           threshold_level = 4.0,\n",
    "                                                           karwgs_random_forest = None,\n",
    "                                                           number_of_workers = 10)\n",
    "\n",
    "\"\"\"\n",
    "Train the threshold detector on dataset1 and compute the thresholds for dataset1,\n",
    "the parameters given to the function are a pandas data frame containing the data and the \n",
    "names of the columns of the data frame\n",
    "\"\"\"\n",
    "thresholds1 = threshold_detector.fit_and_predict_data_set(mouse_id = 'mouse_id',\n",
    "                                                          sound_level = 'sound_level',\n",
    "                                                          frequency = 'frequency',\n",
    "                                                          time_series = timeseries_columns, \n",
    "                                                          data = dataset1)\n",
    "\n",
    "\"\"\"Save the trained threshold detector\"\"\"\n",
    "threshold_detector.save_model_to_file(file_name = '../models/INGcalibrated_threshold_det.pkl')"
   ]
  },
  {
   "cell_type": "markdown",
   "metadata": {},
   "source": [
    "# Threshold detection on GMC data\n",
    "\n",
    "Load threshold detector from file, apply it to the [German Mouse Clinic](https://www.mouseclinic.de/) data and evaluate the results."
   ]
  },
  {
   "cell_type": "code",
   "execution_count": null,
   "metadata": {
    "ExecuteTime": {
     "end_time": "2021-04-30T06:53:20.336653Z",
     "start_time": "2021-04-30T06:53:19.779779Z"
    }
   },
   "outputs": [],
   "source": [
    "GMC_data2 = GMC_data[['mouse_id', 'frequency', 'sound_level', 'threshold'] + timeseries_columns]\n",
    "GMC_data2.head()"
   ]
  },
  {
   "cell_type": "code",
   "execution_count": null,
   "metadata": {
    "ExecuteTime": {
     "end_time": "2021-04-30T09:50:13.327620Z",
     "start_time": "2021-04-30T06:53:27.307544Z"
    }
   },
   "outputs": [],
   "source": [
    "\"\"\"Load threshold detector from file\"\"\"\n",
    "threshold_detector = ABR_Threshold_Detector_multi_stimulus(file_name = '../models/INGcalibrated_threshold_det.pkl')\n",
    "\n",
    "\"\"\"\n",
    "Use loaded threshold detector to predict thresholds on GMC data\n",
    "the parameters given to the function are a pandas data frame containing the data and the \n",
    "names of the columns of the data frame\n",
    "\"\"\"\n",
    "GMC_thresholds2 = threshold_detector.predict_new(mouse_id = 'mouse_id',\n",
    "                                                 sound_level = 'sound_level',\n",
    "                                                 frequency = 'frequency',\n",
    "                                                 time_series = timeseries_columns, \n",
    "                                                 data = GMC_data2)\n",
    "\n",
    "\"\"\"Append the threshold values to the result data\"\"\"\n",
    "GMC_data2['slr_estimated_thr'] = GMC_thresholds2 "
   ]
  },
  {
   "cell_type": "markdown",
   "metadata": {},
   "source": [
    "## Save estimations"
   ]
  },
  {
   "cell_type": "code",
   "execution_count": null,
   "metadata": {
    "ExecuteTime": {
     "end_time": "2021-05-03T08:38:08.900617Z",
     "start_time": "2021-05-03T08:38:08.806797Z"
    }
   },
   "outputs": [],
   "source": [
    "GMC_data2save = GMC_data2[['mouse_id', 'frequency', 'threshold', 'slr_estimated_thr']].drop_duplicates()\n",
    "GMC_data2save.to_csv('../reports/GMC_data_INGcalibrated_SLR_estimations.csv', index=False)\n",
    "GMC_data2save.head()"
   ]
  },
  {
   "cell_type": "markdown",
   "metadata": {},
   "source": [
    "## Evaluate thresholds by comparing it with a 'ground truth' (a human set threshold in this case)"
   ]
  },
  {
   "cell_type": "code",
   "execution_count": null,
   "metadata": {
    "ExecuteTime": {
     "end_time": "2021-04-30T09:52:51.560769Z",
     "start_time": "2021-04-30T09:50:35.866633Z"
    }
   },
   "outputs": [],
   "source": [
    "# 5dB buffer\n",
    "evaluation = evaluate_classification_against_ground_truth(GMC_data2, 5, \n",
    "                                                          frequency = 'frequency',\n",
    "                                                          mouse_id = 'mouse_id',\n",
    "                                                          sound_level = 'sound_level',\n",
    "                                                          threshold_estimated = 'slr_estimated_thr',\n",
    "                                                          threshold_ground_truth = 'threshold')\n",
    "\n",
    "evaluation"
   ]
  },
  {
   "cell_type": "code",
   "execution_count": null,
   "metadata": {
    "ExecuteTime": {
     "end_time": "2021-04-30T10:01:13.851899Z",
     "start_time": "2021-04-30T09:58:58.638540Z"
    }
   },
   "outputs": [],
   "source": [
    "# 10dB buffer\n",
    "evaluation = evaluate_classification_against_ground_truth(GMC_data2, 10, \n",
    "                                                          frequency = 'frequency',\n",
    "                                                          mouse_id = 'mouse_id',\n",
    "                                                          sound_level = 'sound_level',\n",
    "                                                          threshold_estimated = 'slr_estimated_thr',\n",
    "                                                          threshold_ground_truth = 'threshold')\n",
    "\n",
    "evaluation"
   ]
  },
  {
   "cell_type": "markdown",
   "metadata": {},
   "source": [
    "# Threshold detection on ING data\n",
    "\n",
    "Load threshold detector from file, apply it to the data set provided by [Ingham et. al](https://journals.plos.org/plosbiology/article?id=10.1371/journal.pbio.3000194) and evaluate the results."
   ]
  },
  {
   "cell_type": "code",
   "execution_count": null,
   "metadata": {
    "ExecuteTime": {
     "end_time": "2021-04-30T10:43:06.363856Z",
     "start_time": "2021-04-30T10:43:05.347607Z"
    }
   },
   "outputs": [],
   "source": [
    "ING_data2 = ING_data[['mouse_id', 'frequency', 'sound_level', 'threshold'] + timeseries_columns]\n",
    "ING_data2.head()"
   ]
  },
  {
   "cell_type": "code",
   "execution_count": null,
   "metadata": {
    "ExecuteTime": {
     "end_time": "2021-05-03T14:48:22.057402Z",
     "start_time": "2021-05-03T09:01:28.651720Z"
    }
   },
   "outputs": [],
   "source": [
    "\"\"\"Load threshold detector from file\"\"\"\n",
    "threshold_detector = ABR_Threshold_Detector_multi_stimulus(file_name = '../models/INGcalibrated_threshold_det.pkl')\n",
    "\n",
    "\"\"\"\n",
    "Use loaded threshold detector to predict thresholds on ING data,\n",
    "the parameters given to the function are a pandas data frame containing the data and the \n",
    "names of the columns of the data frame\n",
    "\"\"\"\n",
    "ING_thresholds2 = threshold_detector.predict_new(mouse_id = 'mouse_id',\n",
    "                                                 sound_level = 'sound_level',\n",
    "                                                 frequency = 'frequency',\n",
    "                                                 time_series = timeseries_columns, \n",
    "                                                 data = ING_data2)\n",
    "\n",
    "\"\"\"Append the threshold values to the result data\"\"\"\n",
    "ING_data2['slr_estimated_thr'] = ING_thresholds2 "
   ]
  },
  {
   "cell_type": "markdown",
   "metadata": {},
   "source": [
    "## Save estimations"
   ]
  },
  {
   "cell_type": "code",
   "execution_count": null,
   "metadata": {
    "ExecuteTime": {
     "end_time": "2021-05-03T17:01:57.823099Z",
     "start_time": "2021-05-03T17:01:57.605895Z"
    }
   },
   "outputs": [],
   "source": [
    "ING_data2save = ING_data2[['mouse_id', 'frequency', 'threshold', 'slr_estimated_thr']].drop_duplicates()\n",
    "ING_data2save.to_csv('../reports/ING_data_INGcalibrated_SLR_estimations.csv', index=False)\n",
    "ING_data2save.head()"
   ]
  },
  {
   "cell_type": "markdown",
   "metadata": {},
   "source": [
    "## Evaluate thresholds by comparing it with a 'ground truth' (a human set threshold in this case)"
   ]
  },
  {
   "cell_type": "code",
   "execution_count": null,
   "metadata": {
    "ExecuteTime": {
     "end_time": "2021-05-03T19:20:17.956166Z",
     "start_time": "2021-05-03T17:02:02.292310Z"
    }
   },
   "outputs": [],
   "source": [
    "# 5dB buffer\n",
    "evaluation = evaluate_classification_against_ground_truth(ING_data2, 5, \n",
    "                                                          frequency = 'frequency',\n",
    "                                                          mouse_id = 'mouse_id',\n",
    "                                                          sound_level = 'sound_level',\n",
    "                                                          threshold_estimated = 'slr_estimated_thr',\n",
    "                                                          threshold_ground_truth = 'threshold')\n",
    "\n",
    "evaluation"
   ]
  },
  {
   "cell_type": "code",
   "execution_count": null,
   "metadata": {
    "ExecuteTime": {
     "end_time": "2021-05-03T23:41:14.454442Z",
     "start_time": "2021-05-03T21:23:11.066713Z"
    },
    "pycharm": {
     "name": "#%%\n"
    }
   },
   "outputs": [],
   "source": [
    "# 10dB buffer\n",
    "evaluation = evaluate_classification_against_ground_truth(ING_data2, 10, \n",
    "                                                          frequency = 'frequency',\n",
    "                                                          mouse_id = 'mouse_id',\n",
    "                                                          sound_level = 'sound_level',\n",
    "                                                          threshold_estimated = 'slr_estimated_thr',\n",
    "                                                          threshold_ground_truth = 'threshold')\n",
    "\n",
    "evaluation\n",
    "\n"
   ]
  }
 ],
 "metadata": {
  "hide_input": false,
  "kernelspec": {
   "display_name": "Python 3 (ipykernel)",
   "language": "python",
   "name": "python3"
  },
  "language_info": {
   "codemirror_mode": {
    "name": "ipython",
    "version": 3
   },
   "file_extension": ".py",
   "mimetype": "text/x-python",
   "name": "python",
   "nbconvert_exporter": "python",
   "pygments_lexer": "ipython3",
   "version": "3.7.11"
  },
  "toc": {
   "base_numbering": 1,
   "nav_menu": {},
   "number_sections": true,
   "sideBar": true,
   "skip_h1_title": false,
   "title_cell": "Table of Contents",
   "title_sidebar": "Contents",
   "toc_cell": false,
   "toc_position": {},
   "toc_section_display": true,
   "toc_window_display": false
  },
  "varInspector": {
   "cols": {
    "lenName": 16,
    "lenType": 16,
    "lenVar": 40
   },
   "kernels_config": {
    "python": {
     "delete_cmd_postfix": "",
     "delete_cmd_prefix": "del ",
     "library": "var_list.py",
     "varRefreshCmd": "print(var_dic_list())"
    },
    "r": {
     "delete_cmd_postfix": ") ",
     "delete_cmd_prefix": "rm(",
     "library": "var_list.r",
     "varRefreshCmd": "cat(var_dic_list()) "
    }
   },
   "types_to_exclude": [
    "module",
    "function",
    "builtin_function_or_method",
    "instance",
    "_Feature"
   ],
   "window_display": false
  }
 },
 "nbformat": 4,
 "nbformat_minor": 4
}