{
 "cells": [
  {
   "cell_type": "markdown",
   "metadata": {
    "pycharm": {
     "name": "#%% md\n"
    }
   },
   "source": [
    "# Description\n",
    "\n",
    "For each GMC mouse line hearing thresholds were used to calculate significance (Wilcoxon test) and non-parametric effect size (Cliff's delta) (see file _GMC_mannwhitneyu_results.csv_).</br>\n",
    "\n",
    "In this notebook, the GMC mouse lines are analysed and a list of genes with significant strong effects is identified. The significance level 0.05 and the ranges for small (0.147), medium (0.33) and large (0.474) effects are considered for the thresholds determined with the three methods (manual, NN, SLR).\n"
   ]
  },
  {
   "cell_type": "code",
   "execution_count": null,
   "metadata": {
    "pycharm": {
     "name": "#%%\n"
    }
   },
   "outputs": [],
   "source": [
    "%reload_ext autoreload\n",
    "%autoreload 2\n",
    "%matplotlib inline "
   ]
  },
  {
   "cell_type": "code",
   "execution_count": null,
   "metadata": {
    "pycharm": {
     "name": "#%%\n"
    }
   },
   "outputs": [],
   "source": [
    "from IPython.core.display import display, HTML\n",
    "display(HTML(\"<style>.container { width:100% !important; }</style>\"))"
   ]
  },
  {
   "cell_type": "markdown",
   "metadata": {
    "pycharm": {
     "name": "#%% md\n"
    }
   },
   "source": [
    "# Load libraries"
   ]
  },
  {
   "cell_type": "code",
   "execution_count": null,
   "metadata": {
    "pycharm": {
     "name": "#%%\n"
    }
   },
   "outputs": [],
   "source": [
    "import os\n",
    "import re\n",
    "import warnings\n",
    "\n",
    "import pandas  as pd\n",
    "import numpy   as np\n",
    "import seaborn as sns\n",
    "import matplotlib.pyplot as plt\n",
    "\n",
    "from scipy              import stats\n",
    "from scipy.stats        import kendalltau\n",
    "from matplotlib.patches import Patch\n",
    "from matplotlib.lines   import Line2D\n",
    "from matplotlib.backends.backend_pdf import PdfPages\n",
    "\n",
    "os.environ[\"CUDA_VISIBLE_DEVICES\"]=\"\"\n",
    "warnings.filterwarnings(\"ignore\")"
   ]
  },
  {
   "cell_type": "markdown",
   "metadata": {
    "pycharm": {
     "name": "#%% md\n"
    }
   },
   "source": [
    "# Settings"
   ]
  },
  {
   "cell_type": "code",
   "execution_count": null,
   "metadata": {
    "pycharm": {
     "name": "#%%\n"
    }
   },
   "outputs": [],
   "source": [
    "\"\"\"Set the path to the data files, for example '../data'\"\"\"\n",
    "path2data = '../data'\n",
    "\"\"\"Set the path to result data, for example '../results'\"\"\"\n",
    "path2results = '../results'"
   ]
  },
  {
   "cell_type": "markdown",
   "metadata": {
    "pycharm": {
     "name": "#%% md\n"
    }
   },
   "source": [
    "# Description of the [GMC](https://www.mouseclinic.de/) and [ING](https://journals.plos.org/plosbiology) data"
   ]
  },
  {
   "cell_type": "markdown",
   "metadata": {
    "pycharm": {
     "name": "#%% md\n"
    }
   },
   "source": [
    "## Read data"
   ]
  },
  {
   "cell_type": "code",
   "execution_count": null,
   "metadata": {
    "pycharm": {
     "name": "#%%\n"
    }
   },
   "outputs": [],
   "source": [
    "data = pd.read_csv(os.path.join(path2data, 'data4hearing_curves_analysis.csv'))\n",
    "display(data.head(5))"
   ]
  },
  {
   "cell_type": "markdown",
   "metadata": {
    "pycharm": {
     "name": "#%% md\n"
    }
   },
   "source": [
    "## GMC data: basic statistics"
   ]
  },
  {
   "cell_type": "code",
   "execution_count": null,
   "metadata": {
    "pycharm": {
     "name": "#%%\n"
    }
   },
   "outputs": [],
   "source": [
    "dataGMC = data[data.source == \"GMC\"]\n",
    "display(dataGMC.head(5))"
   ]
  },
  {
   "cell_type": "markdown",
   "metadata": {
    "code_folding": [],
    "heading_collapsed": true,
    "pycharm": {
     "name": "#%% md\n"
    }
   },
   "source": [
    "### Number of GMC mice"
   ]
  },
  {
   "cell_type": "code",
   "execution_count": null,
   "metadata": {
    "code_folding": [],
    "hidden": true,
    "pycharm": {
     "name": "#%%\n"
    }
   },
   "outputs": [],
   "source": [
    "print('GMC male mutants:   %i' % len(dataGMC[(dataGMC.sex == 'm') & (dataGMC.cohort_type == 'mut')].mouse_id.unique()))\n",
    "print('GMC female mutants: %i' % len(dataGMC[(dataGMC.sex == 'f') & (dataGMC.cohort_type == 'mut')].mouse_id.unique()))\n",
    "print()\n",
    "print('GMC male controls:   %i' % len(dataGMC[(dataGMC.sex == 'm') & (dataGMC.cohort_type == 'con')].mouse_id.unique()))\n",
    "print('GMC female controls: %i' % len(dataGMC[(dataGMC.sex == 'f') & (dataGMC.cohort_type == 'con')].mouse_id.unique()))\n",
    "print()\n",
    "print('Total number of GMC mutants:  %i' % len(dataGMC[dataGMC.cohort_type == 'mut'].mouse_id.unique()))\n",
    "print('Total number of GMC controls: %i' % len(dataGMC[dataGMC.cohort_type == 'con'].mouse_id.unique()))\n",
    "print()\n",
    "print('Total number of GMC males:   %i' % len(dataGMC[dataGMC.sex == 'm'].mouse_id.unique()))\n",
    "print('Total number of GMC females: %i' % len(dataGMC[dataGMC.sex == 'f'].mouse_id.unique()))"
   ]
  },
  {
   "cell_type": "markdown",
   "metadata": {
    "heading_collapsed": true,
    "pycharm": {
     "name": "#%% md\n"
    }
   },
   "source": [
    "### Number of GMC genes"
   ]
  },
  {
   "cell_type": "code",
   "execution_count": null,
   "metadata": {
    "hidden": true,
    "pycharm": {
     "name": "#%%\n"
    }
   },
   "outputs": [],
   "source": [
    "print('Number of distinct genes: %i' % len(dataGMC[(dataGMC.cohort_type == 'mut')].gene.unique())) "
   ]
  },
  {
   "cell_type": "markdown",
   "metadata": {
    "heading_collapsed": true,
    "pycharm": {
     "name": "#%% md\n"
    }
   },
   "source": [
    "### GMC gene cohort size"
   ]
  },
  {
   "cell_type": "code",
   "execution_count": null,
   "metadata": {
    "hidden": true,
    "pycharm": {
     "name": "#%%\n"
    }
   },
   "outputs": [],
   "source": [
    "\"\"\"Count the number of mutants and reference controls for each gene\"\"\"\n",
    "idx=0\n",
    "dfGMC=pd.DataFrame(columns=['gene', 'mutants', 'controls'])\n",
    "for gene in dataGMC[~dataGMC.gene.isna()].gene.unique():\n",
    "    if gene:\n",
    "        dfGMC.at[idx, 'gene'] = gene\n",
    "        dfGMC.at[idx, 'mutants'] = dataGMC[(dataGMC.gene == gene)&(dataGMC.cohort_type == 'mut')].mouse_id.nunique()\n",
    "        ref_cohorts = dataGMC[(dataGMC.gene == gene)&(dataGMC.cohort_type == 'mut')].reference_cohort.unique()\n",
    "        dfGMC.at[idx, 'controls'] = dataGMC[(dataGMC.cohort_type == 'con')&(dataGMC.cohort_id.isin(ref_cohorts))].mouse_id.nunique()\n",
    "        idx+=1\n",
    "display(dfGMC.head(5))"
   ]
  },
  {
   "cell_type": "code",
   "execution_count": null,
   "metadata": {
    "hidden": true,
    "pycharm": {
     "name": "#%%\n"
    }
   },
   "outputs": [],
   "source": [
    "print('GMC mutant cohort size - median:         %i' % np.median(dfGMC.mutants))\n",
    "print('GMC mutant cohort size - 5%% percentile:  %i' % np.percentile(dfGMC.mutants, 5))\n",
    "print('GMC mutant cohort size - 95%% percentile: %i' % np.percentile(dfGMC.mutants, 95))\n",
    "print()\n",
    "print('GMC control cohort size - median:         %i' % np.median(dfGMC.controls))\n",
    "print('GMC control cohort size - 5%% percentile:  %i' % np.percentile(dfGMC.controls, 5))\n",
    "print('GMC control cohort size - 95%% percentile: %i' % np.percentile(dfGMC.controls, 95))"
   ]
  },
  {
   "cell_type": "markdown",
   "metadata": {
    "heading_collapsed": true,
    "pycharm": {
     "name": "#%% md\n"
    }
   },
   "source": [
    "## ING data: basic statistics\n"
   ]
  },
  {
   "cell_type": "code",
   "execution_count": null,
   "metadata": {
    "hidden": true,
    "pycharm": {
     "name": "#%%\n"
    }
   },
   "outputs": [],
   "source": [
    "dataING = data[data.source == \"ING\"]\n",
    "dataING"
   ]
  },
  {
   "cell_type": "markdown",
   "metadata": {
    "hidden": true,
    "pycharm": {
     "name": "#%% md\n"
    }
   },
   "source": [
    "### Number of ING mice"
   ]
  },
  {
   "cell_type": "code",
   "execution_count": null,
   "metadata": {
    "hidden": true,
    "pycharm": {
     "name": "#%%\n"
    }
   },
   "outputs": [],
   "source": [
    "print('Total number of ING mutants:  %i' % len(dataING[dataING.cohort_type == 'mut'].mouse_id.unique()))\n",
    "print('Total number of ING controls: %i' % len(dataING[dataING.cohort_type == 'con'].mouse_id.unique()))\n",
    "print()\n",
    "print('Total number of ING mice: %i' % len(dataING.mouse_id.unique()))"
   ]
  },
  {
   "cell_type": "markdown",
   "metadata": {
    "hidden": true,
    "pycharm": {
     "name": "#%% md\n"
    }
   },
   "source": [
    "### Number of ING genes"
   ]
  },
  {
   "cell_type": "code",
   "execution_count": null,
   "metadata": {
    "hidden": true,
    "pycharm": {
     "name": "#%%\n"
    }
   },
   "outputs": [],
   "source": [
    "print('Number of distinct genes: %i' % dataING[(dataING.cohort_type == 'mut')].gene.nunique())"
   ]
  },
  {
   "cell_type": "markdown",
   "metadata": {
    "hidden": true,
    "pycharm": {
     "name": "#%% md\n"
    }
   },
   "source": [
    "### ING gene cohort size"
   ]
  },
  {
   "cell_type": "code",
   "execution_count": null,
   "metadata": {
    "hidden": true,
    "pycharm": {
     "name": "#%%\n"
    }
   },
   "outputs": [],
   "source": [
    "\"\"\"Count the number of mutants for each gene\"\"\"\n",
    "idx=0\n",
    "dfING=pd.DataFrame(columns=['gene', 'mutants'])\n",
    "for gene in dataING[~dataING.gene.isna()].gene.unique():\n",
    "    if gene:\n",
    "        dfING.at[idx, 'gene'] = gene\n",
    "        dfING.at[idx, 'mutants'] = dataING[(dataING.gene == gene)&(dataING.cohort_type == 'mut')].mouse_id.nunique()\n",
    "        idx+=1\n",
    "display(dfING.head(5))"
   ]
  },
  {
   "cell_type": "code",
   "execution_count": null,
   "metadata": {
    "hidden": true,
    "pycharm": {
     "name": "#%%\n"
    }
   },
   "outputs": [],
   "source": [
    "print('ING mutant cohort size - median:         %i' % np.median(dfING.mutants))\n",
    "print('ING mutant cohort size - 5%% percentile:  %i' % np.percentile(dfING.mutants, 5))\n",
    "print('ING mutant cohort size - 95%% percentile: %i' % np.percentile(dfING.mutants, 95))"
   ]
  },
  {
   "cell_type": "markdown",
   "metadata": {
    "heading_collapsed": true,
    "pycharm": {
     "name": "#%% md\n"
    }
   },
   "source": [
    "## GMC/ING gene overlap"
   ]
  },
  {
   "cell_type": "code",
   "execution_count": null,
   "metadata": {
    "hidden": true,
    "pycharm": {
     "name": "#%%\n"
    }
   },
   "outputs": [],
   "source": [
    "\"\"\"Find common genes in both datasets\"\"\"\n",
    "\n",
    "GMCgene_set = set(dataGMC[dataGMC.cohort_type == 'mut'].gene.unique())\n",
    "INGgene_set = set(dataING[dataING.cohort_type == 'mut'].gene.unique())\n",
    "\n",
    "print(sorted(GMCgene_set.intersection(INGgene_set)))"
   ]
  },
  {
   "cell_type": "markdown",
   "metadata": {
    "heading_collapsed": true,
    "pycharm": {
     "name": "#%% md\n"
    }
   },
   "source": [
    "## Available human-assigned labels per frequency and sound level (controls only)\n",
    "\n",
    "Since we want to compare the GMC and the ING datasets, we only use control animals."
   ]
  },
  {
   "cell_type": "code",
   "execution_count": null,
   "metadata": {
    "hidden": true,
    "pycharm": {
     "name": "#%%\n"
    }
   },
   "outputs": [],
   "source": [
    "\"\"\"\n",
    "reduce data frame to essential columns, so we can remove redundant rows (necessary, since control mice in GMC cohorts can occur multiple times)\n",
    "use controls only!\n",
    "\"\"\"\n",
    "data_unique = data[data.cohort_type == \"con\"].drop(columns = ['gene','exp_date', 'cohort_type', 'sex', 'cohort_id', 'reference_cohort','th_NN_GMCtrained', 'th_NN_INGtrained', 'th_SLR_GMCcalibrated', 'th_SLR_INGcalibrated'])\n",
    "data_unique = data_unique.drop_duplicates()\n",
    "\n",
    "data_unique.at[:,'frequency'] = ['click' if data_unique.at[idx, 'stimulation'] == 'click' else int(float(data_unique.at[idx, 'stimulation']))*1000 for idx in data_unique.index]\n",
    "display(data_unique.head(2))"
   ]
  },
  {
   "cell_type": "code",
   "execution_count": null,
   "metadata": {
    "hidden": true,
    "pycharm": {
     "name": "#%%\n"
    }
   },
   "outputs": [],
   "source": [
    "pd.set_option(\"max_rows\", 300)"
   ]
  },
  {
   "cell_type": "code",
   "execution_count": null,
   "metadata": {
    "hidden": true,
    "pycharm": {
     "name": "#%%\n"
    }
   },
   "outputs": [],
   "source": [
    "\"\"\"Aggregate GMC numbers by source, frequency, th_manual (=human-assigned threshold)\"\"\"\n",
    "labels = data_unique.sort_values(['source', 'frequency', 'th_manual']).groupby(['source', 'frequency', 'th_manual'])['mouse_id'].agg(['count']).reset_index()\n",
    "\n",
    "\"\"\"Insert temp column to make sure all positions are filled - here: 5, 95\"\"\"\n",
    "fill = pd.DataFrame({\"source\": \"GMC\", \"th_manual\": [5,95], \"click0\": [0,0]} )\n",
    "\n",
    "\"\"\"Prepare data for re-arrangement\"\"\" \n",
    "GMCc  = labels[(labels.source == 'GMC') & (labels.frequency == 'click')]\n",
    "GMCc.drop(columns = 'frequency', inplace=True)\n",
    "GMCc.rename(columns={'count':'click'}, inplace=True)\n",
    "\n",
    "GMC6  = labels[(labels.source == 'GMC') & (labels.frequency ==  6000)]\n",
    "GMC6.drop(columns ='frequency', inplace=True)\n",
    "GMC6.rename(columns={'count':'6 kHz'}, inplace=True)\n",
    "\n",
    "GMC12 = labels[(labels.source == 'GMC') & (labels.frequency == 12000)]\n",
    "GMC12.drop(columns ='frequency', inplace=True)\n",
    "GMC12.rename(columns={'count':'12 kHz'}, inplace=True)\n",
    "\n",
    "GMC18 = labels[(labels.source == 'GMC') & (labels.frequency == 18000)]\n",
    "GMC18.drop(columns ='frequency', inplace=True)\n",
    "GMC18.rename(columns={'count':'18 kHz'}, inplace=True)\n",
    "\n",
    "GMC24 = labels[(labels.source == 'GMC') & (labels.frequency == 24000)]\n",
    "GMC24.drop(columns ='frequency', inplace=True)\n",
    "GMC24.rename(columns={'count':'24 kHz'}, inplace=True)\n",
    "\n",
    "GMC30 = labels[(labels.source == 'GMC') & (labels.frequency == 30000)]\n",
    "GMC30.drop(columns ='frequency', inplace=True)\n",
    "GMC30.rename(columns={'count':'30 kHz'}, inplace=True)\n",
    "\n",
    "\"\"\"Merge to form new dataframe\"\"\"\n",
    "result = pd.merge(fill,    GMCc, how=\"outer\", on=[\"source\", \"th_manual\"])\n",
    "result = pd.merge(result,  GMC6, how=\"outer\", on=[\"source\", \"th_manual\"])\n",
    "result = pd.merge(result, GMC12, how=\"outer\", on=[\"source\", \"th_manual\"])\n",
    "result = pd.merge(result, GMC18, how=\"outer\", on=[\"source\", \"th_manual\"])\n",
    "result = pd.merge(result, GMC24, how=\"outer\", on=[\"source\", \"th_manual\"])\n",
    "result = pd.merge(result, GMC30, how=\"outer\", on=[\"source\", \"th_manual\"])\n",
    "GMC_labels = result\n",
    "\n",
    "\"\"\"Replace NaN with 0\"\"\"\n",
    "GMC_labels = GMC_labels.fillna(0)\n",
    "\n",
    "\"\"\"Drop temp column 'click0'\"\"\"\n",
    "GMC_labels.drop(columns = ['source','click0'], inplace=True)\n",
    "\n",
    "\"\"\"Sort\"\"\"\n",
    "GMC_labels.sort_values(by=['th_manual'], ascending=False, ignore_index=True, inplace=True)\n",
    "\n",
    "\"\"\"Use th_manual as index\"\"\"\n",
    "GMC_labels.set_index('th_manual', inplace=True)\n",
    "\n",
    "\"\"\"Convert to int\"\"\"\n",
    "GMC_labels = GMC_labels.astype(\"int\")\n",
    "\n",
    "\"\"\"Max value\"\"\"\n",
    "GMC_max = GMC_labels.to_numpy().max()\n",
    "\n",
    "GMC_labels"
   ]
  },
  {
   "cell_type": "code",
   "execution_count": null,
   "metadata": {
    "hidden": true,
    "pycharm": {
     "name": "#%%\n"
    }
   },
   "outputs": [],
   "source": [
    "plt.figure(figsize=(16, 12))\n",
    "plt.title('GMC')\n",
    "sns.set(font_scale=1.9)\n",
    "axGMC = sns.heatmap(GMC_labels, annot=True, fmt='d', annot_kws={\"size\":14}, cmap='Blues')"
   ]
  },
  {
   "cell_type": "code",
   "execution_count": null,
   "metadata": {
    "hidden": true,
    "pycharm": {
     "name": "#%%\n"
    },
    "scrolled": true
   },
   "outputs": [],
   "source": [
    "\"\"\"Aggregate ING numbers by source, frequency, th_manual (=human-assigned threshold)\"\"\"\n",
    "labels = data_unique.sort_values(['source', 'frequency', 'th_manual']).groupby(['source', 'frequency', 'th_manual'])['mouse_id'].agg(['count']).reset_index()\n",
    "\n",
    "\"\"\"Insert temp column to make sure all positions are filled - here: 5, 95\"\"\"\n",
    "fill = pd.DataFrame({\"source\": \"ING\", \"th_manual\": [5,95], \"click0\": [0,0]} )\n",
    "\n",
    "\"\"\"Prepare data for re-arrangement\"\"\"\n",
    "INGc  = labels[(labels.source == 'ING') & (labels.frequency == 'click')]\n",
    "INGc.drop(columns = 'frequency', inplace=True)\n",
    "INGc.rename(columns={'count':'click'}, inplace=True)\n",
    "\n",
    "ING6  = labels[(labels.source == 'ING') & (labels.frequency ==  6000)]\n",
    "ING6.drop(columns ='frequency', inplace=True)\n",
    "ING6.rename(columns={'count':'6 kHz'}, inplace=True)\n",
    "\n",
    "ING12 = labels[(labels.source == 'ING') & (labels.frequency == 12000)]\n",
    "ING12.drop(columns ='frequency', inplace=True)\n",
    "ING12.rename(columns={'count':'12 kHz'}, inplace=True)\n",
    "\n",
    "ING18 = labels[(labels.source == 'ING') & (labels.frequency == 18000)]\n",
    "ING18.drop(columns ='frequency', inplace=True)\n",
    "ING18.rename(columns={'count':'18 kHz'}, inplace=True)\n",
    "\n",
    "ING24 = labels[(labels.source == 'ING') & (labels.frequency == 24000)]\n",
    "ING24.drop(columns ='frequency', inplace=True)\n",
    "ING24.rename(columns={'count':'24 kHz'}, inplace=True)\n",
    "\n",
    "ING30 = labels[(labels.source == 'ING') & (labels.frequency == 30000)]\n",
    "ING30.drop(columns ='frequency', inplace=True)\n",
    "ING30.rename(columns={'count':'30 kHz'}, inplace=True)\n",
    "\n",
    "\"\"\"Merge to form new dataframe\"\"\"\n",
    "result = pd.merge(fill,    INGc, how=\"outer\", on=[\"source\", \"th_manual\"])\n",
    "result = pd.merge(result,  ING6, how=\"outer\", on=[\"source\", \"th_manual\"])\n",
    "result = pd.merge(result, ING12, how=\"outer\", on=[\"source\", \"th_manual\"])\n",
    "result = pd.merge(result, ING18, how=\"outer\", on=[\"source\", \"th_manual\"])\n",
    "result = pd.merge(result, ING24, how=\"outer\", on=[\"source\", \"th_manual\"])\n",
    "result = pd.merge(result, ING30, how=\"outer\", on=[\"source\", \"th_manual\"])\n",
    "ING_labels = result\n",
    "\n",
    "\"\"\"Replace NaN with 0\"\"\"\n",
    "ING_labels = ING_labels.fillna(0)\n",
    "\n",
    "\"\"\"Drop temp column 'click0'\"\"\"\n",
    "ING_labels.drop(columns = ['source','click0'], inplace=True)\n",
    "\n",
    "\"\"\"Sort\"\"\"\n",
    "ING_labels.sort_values(by=['th_manual'], ascending=False, ignore_index=True, inplace=True)\n",
    "\n",
    "\"\"\"Use th_manual as index\"\"\"\n",
    "ING_labels.set_index('th_manual', inplace=True)\n",
    "\n",
    "\"\"\"Convert to int\"\"\"\n",
    "ING_labels = ING_labels.astype(\"int\")\n",
    "\n",
    "\"\"\"Max value\"\"\"\n",
    "ING_max = ING_labels.to_numpy().max()\n",
    "\n",
    "ING_labels"
   ]
  },
  {
   "cell_type": "code",
   "execution_count": null,
   "metadata": {
    "hidden": true,
    "pycharm": {
     "name": "#%%\n"
    }
   },
   "outputs": [],
   "source": [
    "\"\"\"Overall maximum (for use in cbar)\"\"\"\n",
    "all_max = max(GMC_max, ING_max)\n",
    "all_max"
   ]
  },
  {
   "cell_type": "code",
   "execution_count": null,
   "metadata": {
    "hidden": true,
    "pycharm": {
     "name": "#%%\n"
    },
    "scrolled": false
   },
   "outputs": [],
   "source": [
    "plt.figure(figsize=(16, 12))\n",
    "plt.title('ING')\n",
    "sns.set(font_scale=1.9)\n",
    "axING = sns.heatmap(ING_labels, annot=True, fmt='d', annot_kws={\"size\":14}, cmap='Blues')"
   ]
  },
  {
   "cell_type": "code",
   "execution_count": null,
   "metadata": {
    "hidden": true,
    "pycharm": {
     "name": "#%%\n"
    }
   },
   "outputs": [],
   "source": [
    "\"\"\"Combined plot\"\"\"\n",
    "fig, axes = plt.subplots(1, 2, figsize=(24, 12), sharey=False)\n",
    "# fig.suptitle('Comparison of human threshold label numbers')\n",
    "\n",
    "GMC_controls = dataGMC[dataGMC.cohort_type == 'con'].mouse_id.nunique()\n",
    "ING_controls = dataING[dataING.cohort_type == 'con'].mouse_id.nunique()\n",
    "\n",
    "axes[0].title.set_text('GMC controls (' + str(GMC_controls) + ')')\n",
    "sns.set(font_scale=1.9)\n",
    "g1=sns.heatmap(GMC_labels, annot=True, fmt='d', annot_kws={\"size\":14}, cmap='Blues', ax=axes[0], cbar=False, vmin=0, vmax=all_max)\n",
    "g1.set_yticklabels(g1.get_yticklabels(), rotation = 0)\n",
    "g1.set(xlabel=\"stimulus\", ylabel = \"manual threshold [dB]\")\n",
    "\n",
    "axes[1].title.set_text('ING controls (' + str(ING_controls) + ')')\n",
    "g2=sns.heatmap(ING_labels, annot=True, fmt='d', annot_kws={\"size\":14}, cmap='Blues', ax=axes[1], cbar=False, vmin=0, vmax=all_max)\n",
    "g2.set(xlabel=\"stimulus\", ylabel = \"manual threshold [dB]\")"
   ]
  },
  {
   "cell_type": "markdown",
   "metadata": {
    "pycharm": {
     "name": "#%% md\n"
    }
   },
   "source": [
    "# Line analysis\n",
    "\n",
    "* use calculated p-values and effect sizes to compare the three methods (manual, NN, SLR) for all lines/genes\n",
    "* Cliff's delta - effects according to https://citeseerx.ist.psu.edu/viewdoc/download?doi=10.1.1.595.6157&rep=rep1&type=pdf: \n",
    "    \n",
    "    small |d| > 0.147</br>\n",
    "    medium |d| > 0.33</br>\n",
    "    strong |d| > 0.474"
   ]
  },
  {
   "cell_type": "code",
   "execution_count": null,
   "metadata": {
    "pycharm": {
     "name": "#%%\n"
    }
   },
   "outputs": [],
   "source": [
    "line_data = pd.read_csv(os.path.join(path2results, 'volcano_plots', 'GMC', 'GMC_mannwhitneyu_results.csv'))\n",
    "line_data.drop(columns=[col for col in line_data.columns if 'VDA' in col], inplace=True)\n",
    "line_data"
   ]
  },
  {
   "cell_type": "code",
   "execution_count": null,
   "metadata": {
    "pycharm": {
     "name": "#%%\n"
    }
   },
   "outputs": [],
   "source": [
    "\"\"\"\n",
    "Which genes show a significant strong effect? \n",
    "Create a pandas-data-frame to provide an overview.\n",
    "\"\"\"\n",
    "line_effects = line_data[['gene', 'mut_mice', 'con_mice']]\n",
    "\n",
    "\"\"\"define thresholds for the p-value and the effect size\"\"\"\n",
    "d = 0.474\n",
    "pval = 0.05\n",
    "\n",
    "\"\"\"only the click and 30 kHz stimuli are considered\"\"\"\n",
    "for stimul in ['click', '30kHz']:\n",
    "    for method in ['manual', 'NN_GMCtrained', 'SLR_GMCcalibrated']:\n",
    "        col = stimul+'_'+method+'_up'\n",
    "        line_effects[col] = [True if ((line_data.at[idx, stimul+'_th_'+method+'_pval'] < pval)&(line_data.at[idx, stimul+'_th_'+method+'_d'] > d)) else False for idx in line_effects.index]\n",
    "        col = stimul+'_'+method+'_down'\n",
    "        line_effects[col] = [True if ((line_data.at[idx, stimul+'_th_'+method+'_pval'] < pval)&(line_data.at[idx, stimul+'_th_'+method+'_d'] < -d)) else False for idx in line_effects.index]\n",
    "            \n",
    "display(line_effects.head(5))"
   ]
  },
  {
   "cell_type": "markdown",
   "metadata": {
    "pycharm": {
     "name": "#%% md\n"
    }
   },
   "source": [
    "## Utils"
   ]
  },
  {
   "cell_type": "code",
   "execution_count": null,
   "metadata": {
    "code_folding": [
     2,
     24,
     30,
     39,
     48
    ],
    "pycharm": {
     "name": "#%%\n"
    }
   },
   "outputs": [],
   "source": [
    "plt.rcParams['figure.figsize'] = [24, 16]\n",
    "\n",
    "colors = {'th_manual': '#004488'\n",
    "    , 'th_manual_mut': '#004488'\n",
    "    , 'th_manual_con': '#6699CC'\n",
    "    , 'th_manual_ref_con': '#332288'\n",
    "    , 'th_manual_all_ref_cons': '#88CCEE'\n",
    "    , 'th_NN_GMCtrained': '#225522'\n",
    "    , 'th_NN_GMCtrained_mut': '#225522'\n",
    "    , 'th_NN_GMCtrained_con': '#5AAE61'\n",
    "    , 'th_NN_GMCtrained_ref_con': '#225555'\n",
    "    , 'th_NN_GMCtrained_all_ref_cons': '#CCEEFF'\n",
    "    , 'th_SLR_GMCcalibrated': '#B2182B'\n",
    "    , 'th_SLR_GMCcalibrated_mut': '#B2182B'\n",
    "    , 'th_SLR_GMCcalibrated_con': '#D6604D'\n",
    "    , 'th_SLR_GMCcalibrated_ref_con': '#882255'\n",
    "    , 'th_SLR_GMCcalibrated_all_ref_cons': '#FFCCCC'\n",
    "    , 'th_NN_INGtrained': '#225522'\n",
    "    , 'th_NN_INGtrained_mut': '#225522'\n",
    "    , 'th_NN_INGtrained_con': '#5AAE61'\n",
    "    , 'th_SLR_INGcalibrated': '#B2182B'\n",
    "    , 'th_SLR_INGcalibrated_mut': '#B2182B'\n",
    "    , 'th_SLR_INGcalibrated_con': '#D6604D'}\n",
    "\n",
    "std_colors = {'th_manual': '#004488'\n",
    "    , 'th_NN_GMCtrained': '#CCDDAA'\n",
    "    , 'th_NN_INGtrained': '#FDDBC7'\n",
    "    , 'th_SLR_GMCcalibrated': '#FFCCCC'\n",
    "    , 'th_SLR_INGcalibrated': '#EEEEBB'}\n",
    "\n",
    "markers = {'con': 'o'\n",
    "    , 'ref_con': 's'\n",
    "    , 'mut': '^'\n",
    "    , 'th_NN_GMCtrained': '^'\n",
    "    , 'th_SLR_GMCcalibrated': '*'\n",
    "    , 'th_manual': 'o'\n",
    "    , 'th_NN_INGtrained': '^'\n",
    "    , 'th_SLR_INGcalibrated': '*'}\n",
    "\n",
    "linestyles = {'mut': 'solid'\n",
    "    , 'con': 'dashed'\n",
    "    , 'ref_con': 'dashdot'\n",
    "    , 'th_manual': 'solid'\n",
    "    , 'th_NN_GMCtrained': 'dotted'\n",
    "    , 'th_SLR_GMCcalibrated': 'dashdot'\n",
    "    , 'th_NN_INGtrained': 'dotted'\n",
    "    , 'th_SLR_INGcalibrated': 'dashdot'}\n",
    "\n",
    "labels = {'th_manual': 'Manually assigned thresholds'\n",
    "    , 'th_NN_GMCtrained': 'Thresholds predicted by GMC trained NNs'\n",
    "    , 'th_NN_INGtrained': 'Thresholds predicted by ING trained NNs'\n",
    "    , 'th_SLR_GMCcalibrated': 'Thresholds estimated by GMC calibrated SLR'\n",
    "    , 'th_SLR_INGcalibrated': 'Thresholds estimated by ING calibrated SLR'}\n",
    "\n",
    "title_fontsize=20"
   ]
  },
  {
   "cell_type": "code",
   "execution_count": null,
   "metadata": {
    "code_folding": [],
    "pycharm": {
     "name": "#%%\n"
    }
   },
   "outputs": [],
   "source": [
    "def plot_effect_size_comparison(_genes, _top_effects, _stimul, _effect=None, _idx=None, \n",
    "                                _ylim=[-1.1,1.1], _fontsize=30, _xlabel=\"stimulus\", _ylabel=\"Cliff's delta\", _data_source='GMC'): \n",
    "    \n",
    "    \"\"\"\n",
    "    Method comparison: plot effect sizes for all stimuli - to show which frequencies are affected.\n",
    "    \"\"\"\n",
    "    \n",
    "    sns.set_style('white')\n",
    "    \n",
    "    y1 = -0.474\n",
    "    y2 = 0.474\n",
    "    \n",
    "    noofgenes = len(_genes)\n",
    "    ncols = 2\n",
    "    if noofgenes > ncols:\n",
    "        if noofgenes%2 == 0:\n",
    "            nrows = int(noofgenes/ncols)\n",
    "        else:\n",
    "            nrows = int(noofgenes/ncols) + 1\n",
    "    else:\n",
    "        if noofgenes == 1:\n",
    "            ncols = 1                   \n",
    "        nrows = 1\n",
    "    \n",
    "    sharex = True\n",
    "    if noofgenes < nrows*ncols:\n",
    "        sharex = False\n",
    "    \n",
    "    fig, axs = plt.subplots(nrows, ncols, figsize=(ncols*12,nrows*10), sharey=True, sharex=sharex)\n",
    "        \n",
    "    axes = []\n",
    "    if nrows == 1:\n",
    "        if ncols == 1: \n",
    "            axes.append(axs)\n",
    "        else:\n",
    "            for ax in axs:\n",
    "                axes.append(ax)\n",
    "        legend_bbox = (.035, 1.24)\n",
    "    else: \n",
    "        for ax1 in axs: \n",
    "            for ax2 in ax1:\n",
    "                axes.append(ax2)\n",
    "        legend_bbox = (.035, 1.06)\n",
    "          \n",
    "    lines  = []\n",
    "    labels = []\n",
    "        \n",
    "    legend_elements = []\n",
    "    \n",
    "    result_file_name = _stimul\n",
    "    if _effect is not None:\n",
    "        result_file_name = result_file_name + '_' + _effect\n",
    "    if _idx is not None:   \n",
    "        result_file_name = result_file_name + '_' + str(_idx+1)\n",
    "        \n",
    "    for idx,ax in enumerate(axes): \n",
    "                \n",
    "        xlabel = _xlabel\n",
    "        ylabel = _ylabel\n",
    "            \n",
    "        if idx%ncols > 0:\n",
    "            ylabel = None\n",
    "                    \n",
    "        if idx < nrows*ncols - ncols:\n",
    "            xlabel = None \n",
    "            \n",
    "        ax.set_ylabel(ylabel, fontsize=_fontsize)\n",
    "        ax.set_xlabel(xlabel, fontsize=_fontsize, labelpad=20)\n",
    "        ax.tick_params(axis='both', which='major', labelsize=_fontsize-5)\n",
    "        ax.grid(zorder=0, color='lightgray')   \n",
    "            \n",
    "        ax.set_xticks(range(6))\n",
    "        ax.set_xticklabels([\"click\", \"6kHz\", \"12kHz\", \"18kHz\", \"24kHz\", \"30kHz\"])\n",
    "        \n",
    "        ax.set_yticks(np.arange(-1.,1.2,0.2))\n",
    "        ax.set_ylim(_ylim)\n",
    "            \n",
    "        if idx < noofgenes: \n",
    "            \n",
    "            gene = _genes[idx]\n",
    "            \n",
    "            if noofgenes > 1:\n",
    "                print('%i. %s' % (idx+1, gene))\n",
    "            \n",
    "            top_effects_man = _top_effects[[\"gene\"] + [col for col in _top_effects.columns if 'manual' in col]]\n",
    "            ax.plot(range(6), top_effects_man[top_effects_man.gene==gene].set_index(\"gene\").T, label=\"manual\", color='blue')\n",
    "            \n",
    "            top_effects_nn = _top_effects[[\"gene\"] + [col for col in _top_effects.columns if 'NN' in col]]\n",
    "            ax.plot(range(6), top_effects_nn[top_effects_nn.gene==gene].set_index(\"gene\").T, label=\"NN\", color='red')\n",
    "            \n",
    "            top_effects_slr = _top_effects[[\"gene\"] + [col for col in _top_effects.columns if 'SLR' in col]]\n",
    "            ax.plot(range(6), top_effects_slr[top_effects_slr.gene==gene].set_index(\"gene\").T, label=\"SLR\", color='orange')\n",
    "            \n",
    "            ax.axhline(y=y1, color='grey', ls='-.', lw=2, label='strong effect')\n",
    "            ax.axhline(y=y2, color='grey', ls='-.', lw=2)\n",
    "            \n",
    "            ax.set_title(\"Gene: \" + gene, fontsize=_fontsize, pad=15)\n",
    "            \n",
    "            if idx == 0:\n",
    "                axLine, axLabel = ax.get_legend_handles_labels()\n",
    "                lines.extend(axLine)\n",
    "                labels.extend(axLabel)\n",
    "            \n",
    "            result_file_name = result_file_name + '_' + gene\n",
    "        else:\n",
    "            ax.axis('off')\n",
    "\n",
    "    if noofgenes == 1:\n",
    "        fig.legend(lines, labels, loc='lower left', bbox_to_anchor=(.15, 1.0), ncol=4,\n",
    "                   borderaxespad=0, fancybox=True, fontsize=_fontsize-10)\n",
    "    else:\n",
    "        fig.legend(lines, labels, loc='lower left', bbox_to_anchor=(.07, 1.0), ncol=4,\n",
    "                   borderaxespad=0, fancybox=True, fontsize=_fontsize-5)\n",
    "        \n",
    "    plt.tight_layout()\n",
    "        \n",
    "    fig.savefig(os.path.join(path2results, 'effect_plots', _data_source, result_file_name + '.png'), bbox_inches = 'tight', papertype = 'letter')"
   ]
  },
  {
   "cell_type": "code",
   "execution_count": null,
   "metadata": {
    "code_folding": [
     0
    ],
    "pycharm": {
     "name": "#%%\n"
    }
   },
   "outputs": [],
   "source": [
    "def plot_thresholds4gene(_gene, _th_cols, _data, _colors, _markers, _linestyles, _labels,\n",
    "                         _dodge=True, _fontsize=16, _markersize=7, _markerscale=1.5,\n",
    "                         _cohort_type=True, _estimator=np.mean, _ci='sd', _fst_quantile=0.05, _last_quantile=0.95,\n",
    "                         _mouse_id=None,\n",
    "                         _legend_outside=False, _figlegend=False, _xlabel=None, _ylabel=None,\n",
    "                         _fig=None, _ax=None):\n",
    "    \"\"\"\n",
    "    Plots hearing curves for a given gene in the data set and returns the legend elements of the plot.\n",
    "    \"\"\"\n",
    "\n",
    "    if _ax is None or _fig is None:\n",
    "        _fig, _ax = plt.subplots()\n",
    "\n",
    "    _data = _data.copy()\n",
    "\n",
    "    for col in _th_cols:\n",
    "        _data[col] = [100 if _data.at[_idx, col] == 999 else _data.at[_idx, col] for _idx in _data.index]\n",
    "\n",
    "    th = re.compile('th_*')\n",
    "    all_th_columns = [col for col in _data.columns if th.match(col)]\n",
    "\n",
    "    \"\"\"create dataframe with the gene mutants and the corresponding controls\"\"\"\n",
    "    gene_data = _data[_data.gene == _gene]\n",
    "    if _cohort_type:\n",
    "        if _data.source.unique().squeeze() == 'GMC':\n",
    "            gene_data = pd.concat([gene_data, _data[_data.cohort_id.isin(gene_data.reference_cohort.unique())]])\n",
    "            gene_data = gene_data.replace('con', 'ref_con')\n",
    "        if _data.source.unique().squeeze() == 'ING' and 'pipeline' in _data.columns:\n",
    "            gene_data = pd.concat([gene_data, _data[(_data.cohort_type == 'con') & _data.pipeline.isin(gene_data.pipeline.unique())]])\n",
    "        else:\n",
    "            gene_data = pd.concat([gene_data, _data[_data.cohort_type == 'con']])\n",
    "        gene_data = gene_data.reset_index(drop=True)\n",
    "\n",
    "    \"\"\"add threshold type column\"\"\"\n",
    "    th_data = []\n",
    "    for col in _th_cols:\n",
    "        mouse_columns = list(gene_data.columns.drop(all_th_columns))\n",
    "        mouse_columns.append(str(col))\n",
    "\n",
    "        tmp_data = gene_data[mouse_columns]\n",
    "        tmp_data = tmp_data.rename(columns={col: 'th_value'})\n",
    "\n",
    "        for _idx in tmp_data.index:\n",
    "            stim = tmp_data.at[_idx, 'stimulation']\n",
    "            coh_type = tmp_data.at[_idx, 'cohort_type']\n",
    "            if stim == 'click':\n",
    "                if _cohort_type:\n",
    "                    tmp_data.at[_idx, 'th_type'] = col+'_con_click' if coh_type=='con' else col+'_ref_con_click' if coh_type=='ref_con' else col+'_mut_click'\n",
    "                else:\n",
    "                    tmp_data.at[_idx, 'th_type'] = col+'_click'\n",
    "            else:\n",
    "                if _cohort_type:\n",
    "                    tmp_data.at[_idx, 'th_type'] = col+'_con_freq' if coh_type=='con' else col+'_ref_con_freq' if coh_type=='ref_con' else col + '_mut_freq'\n",
    "                else:\n",
    "                    tmp_data.at[_idx, 'th_type'] = col+'_freq'\n",
    "        th_data.append(tmp_data.copy())\n",
    "    gene_data1 = pd.concat(th_data)\n",
    "\n",
    "    \"\"\"create legend elements\"\"\"\n",
    "    legend_elements = []\n",
    "    hue_order = []\n",
    "    palette = {}\n",
    "    markers = []\n",
    "    linestyles = []\n",
    "\n",
    "    if _data.source.unique().squeeze() == 'GMC':\n",
    "        cohort_types = ['mut', 'ref_con']\n",
    "    else:\n",
    "        cohort_types = ['mut', 'con']\n",
    "\n",
    "    if _cohort_type:\n",
    "        for col in _th_cols:\n",
    "            for coh_type in cohort_types:\n",
    "                legend_elements.append(Line2D([0], [0], color=_colors[col + '_' + coh_type], marker=_markers[coh_type], linestyle=_linestyles[coh_type],\n",
    "                                              ms=_markersize, label='%s%s %s (n=%d)' % (col + ' - ' if len(_th_cols)>1 else '',\n",
    "                                                                                        'all controls' if coh_type=='con' else _gene+' reference controls' if coh_type=='ref_con' else _gene+' mutants',\n",
    "                                                                                        'mean' if _estimator==np.mean else 'median', gene_data[gene_data.cohort_type==coh_type].mouse_id.nunique())))\n",
    "                for ho in [col + '_' + coh_type + '_click', col + '_' + coh_type + '_freq']:\n",
    "                    hue_order.append(ho)\n",
    "\n",
    "        for ho in hue_order:\n",
    "            if 'mut' in ho:\n",
    "                for col in _th_cols:\n",
    "                    if col in ho:\n",
    "                        palette[ho] = _colors[col + '_mut']\n",
    "                    markers.append(_markers['mut'])\n",
    "                    linestyles.append(_linestyles['mut'])\n",
    "            elif 'ref_con' in ho:\n",
    "                for col in _th_cols:\n",
    "                    if col in ho:\n",
    "                        palette[ho] = _colors[col + '_ref_con']\n",
    "                    markers.append(_markers['ref_con'])\n",
    "                    linestyles.append(_linestyles['ref_con'])\n",
    "            else:\n",
    "                for col in _th_cols:\n",
    "                    if col in ho:\n",
    "                        palette[ho] = _colors[col + '_con']\n",
    "                    markers.append(_markers['con'])\n",
    "                    linestyles.append(_linestyles['con'])\n",
    "    else:\n",
    "        for col in _th_cols:\n",
    "            if _mouse_id is None:\n",
    "                if len(_th_cols)>1:\n",
    "                    legend_lbl = '%s - %s' % (col, 'mean' if _estimator==np.mean else 'median')\n",
    "                else:\n",
    "                    legend_lbl = '%s (n=%d)' % ('mean' if _estimator==np.mean else 'median', gene_data.mouse_id.nunique())\n",
    "            else:\n",
    "                legend_lbl = '%s' % col\n",
    "            legend_elements.append(Line2D([0], [0], color=_colors[col+'_mut'], marker=_markers[col],\n",
    "                                          linestyle=_linestyles['mut'], ms=_markersize,\n",
    "                                          label=legend_lbl))\n",
    "            for ho in [col + '_click', col + '_freq']:\n",
    "                hue_order.append(ho)\n",
    "        for ho in hue_order:\n",
    "            for col in _th_cols:\n",
    "                if col in ho:\n",
    "                    palette[ho] = _colors[col+'_mut']\n",
    "                    markers.append(_markers[col])\n",
    "                    linestyles.append(_linestyles['mut'])\n",
    "\n",
    "\n",
    "    if _mouse_id is None:\n",
    "        sns.pointplot(x='stimulation', y='th_value', data=gene_data1,\n",
    "                      hue='th_type', hue_order=hue_order, dodge=_dodge, legend=False,\n",
    "                      estimator=_estimator, ci=_ci, capsize=.1, errwidth=2, label=hue_order,\n",
    "                      markers=markers, scale=_markerscale, linestyles=linestyles, palette=palette,\n",
    "                      ax=_ax)\n",
    "    elif _mouse_id in gene_data1.mouse_id.unique():\n",
    "        sns.pointplot(x='stimulation', y='th_value', data=gene_data1[gene_data1.mouse_id == _mouse_id],\n",
    "                      hue='th_type', hue_order=hue_order, dodge=_dodge, legend=False,\n",
    "                      estimator=_estimator, ci=_ci, capsize=.1, errwidth=2, label=hue_order,\n",
    "                      markers=markers, scale=_markerscale, linestyles=linestyles, palette=palette,\n",
    "                      ax=_ax)\n",
    "\n",
    "    _alpha = 0.1\n",
    "\n",
    "    if _estimator == np.mean:\n",
    "        for col in _th_cols:\n",
    "            if _cohort_type:\n",
    "                bounds = gene_data[gene_data.cohort_type=='con'].groupby(['stimulation', 'frequency'])[col].agg(['mean', 'std']).reset_index().sort_values(by='frequency')\n",
    "            else:\n",
    "                bounds = gene_data.groupby(['stimulation', 'frequency'])[col].agg(['mean', 'std']).reset_index().sort_values(by='frequency')\n",
    "\n",
    "            x = bounds.iloc[:,0]\n",
    "            collection1 = _ax.fill_between(np.arange(-0.15, 0.15, 0.01),\n",
    "                                          bounds.iloc[:,2][5] - bounds.iloc[:,3][5],\n",
    "                                          bounds.iloc[:,2][5] + bounds.iloc[:,3][5], alpha=_alpha,\n",
    "                                          facecolor=_colors[col])\n",
    "            collection1.set_zorder(0)\n",
    "            collection2 = _ax.fill_between(x,\n",
    "                                          bounds.iloc[:,2] - bounds.iloc[:,3],\n",
    "                                          bounds.iloc[:,2] + bounds.iloc[:,3], alpha=_alpha, label='std dev con',\n",
    "                                          where=[False if x[_idx] == 'click' else True for _idx in x.index],\n",
    "                                          facecolor=_colors[col])\n",
    "            collection2.set_zorder(0)\n",
    "\n",
    "            if len(_th_cols)>1:\n",
    "                legend_lbl=\"%s - %sstandard deviation\" % (col, 'all controls ' if _cohort_type else '')\n",
    "                if _mouse_id:\n",
    "                    legend_lbl = legend_lbl + ' (n=%d)' % (gene_data[gene_data.cohort_type == 'con'].mouse_id.nunique() if _cohort_type else gene_data.mouse_id.nunique())\n",
    "            else:\n",
    "                legend_lbl=\"%sstandard deviation (n=%d)\" % ('all controls ' if _cohort_type else '',\n",
    "                                                            gene_data[gene_data.cohort_type == 'con'].mouse_id.nunique() if _cohort_type else gene_data.mouse_id.nunique())\n",
    "            legend_elements.append(\n",
    "                Patch(facecolor=_colors[col], alpha=_alpha, edgecolor=_colors[col],\n",
    "                      label=legend_lbl))\n",
    "    elif _estimator == np.median:\n",
    "        step = _dodge/(len(_ax.get_lines())-1)\n",
    "        st = -_dodge/2\n",
    "        steps = []\n",
    "        while st <= 0.05:\n",
    "            steps.append(st)\n",
    "            st += step\n",
    "        j = 0\n",
    "        for col in _th_cols:\n",
    "\n",
    "            if _cohort_type:\n",
    "                bounds = gene_data[_data.cohort_type=='con'].groupby(['stimulation', 'frequency'])[col].quantile((_fst_quantile,_last_quantile)).unstack().reset_index().sort_values(by='frequency')\n",
    "            else:\n",
    "                bounds = gene_data.groupby(['stimulation', 'frequency'])[col].quantile((_fst_quantile,_last_quantile)).unstack().reset_index().sort_values(by='frequency')\n",
    "\n",
    "            x = bounds.iloc[:,0]\n",
    "\n",
    "            if len(_th_cols)>1:\n",
    "                legend_lbl=\"%s - %s[5;95] percentile range\" % (col, 'all controls ' if _cohort_type else '')\n",
    "                if _mouse_id:\n",
    "                    legend_lbl = legend_lbl + ' (n=%d)' % (gene_data[gene_data.cohort_type == 'con'].mouse_id.nunique() if _cohort_type else gene_data.mouse_id.nunique())\n",
    "            else:\n",
    "                legend_lbl=\"%s[5;95] percentile range (n=%d)\" % ('all controls ' if _cohort_type else '',\n",
    "                                                                 gene_data[gene_data.cohort_type == 'con'].mouse_id.nunique() if _cohort_type else gene_data.mouse_id.nunique())\n",
    "\n",
    "            if _cohort_type:\n",
    "                for coh_type in cohort_types:\n",
    "                    bounds1 = gene_data[gene_data.cohort_type==coh_type].groupby(['stimulation', 'frequency'])[col].quantile((0.25,0.75)).unstack().reset_index().sort_values(by='frequency')\n",
    "                    i = 0\n",
    "                    for _idx in bounds1.index:\n",
    "                        x = i+steps[j]\n",
    "                        if i == 0:\n",
    "                            j += 1\n",
    "                        ymin = bounds1.at[_idx,0.25]\n",
    "                        ymax = bounds1.at[_idx,0.75]\n",
    "                        vline = _ax.vlines(x, ymin=ymin, ymax=ymax, color=_colors[col + '_' + coh_type], lw=1)\n",
    "                        vline.set_zorder(0)\n",
    "                        hline1 = _ax.hlines(ymin, xmin=x-0.05, xmax=x+0.05, color=_colors[col + '_' + coh_type], lw=1)\n",
    "                        hline2 = _ax.hlines(ymax, xmin=x-0.05, xmax=x+0.05, color=_colors[col + '_' + coh_type], lw=1)\n",
    "                        i += 1\n",
    "                    j += 1\n",
    "            else:\n",
    "                if _mouse_id is None:\n",
    "                    bounds1 = gene_data.groupby(['stimulation', 'frequency'])[col].quantile((0.25,0.75)).unstack().reset_index().sort_values(by='frequency')\n",
    "                    i = 0\n",
    "                    for idx in bounds1.index:\n",
    "                        x = i+steps[j]\n",
    "                        if i == 0:\n",
    "                            j += 1\n",
    "                        ymin = bounds1.at[idx,0.25]\n",
    "                        ymax = bounds1.at[idx,0.75]\n",
    "                        vline = _ax.vlines(x, ymin=ymin, ymax=ymax, color=_colors[col], lw=1)\n",
    "                        vline.set_zorder(0)\n",
    "                        hline1 = _ax.hlines(ymin, xmin=x-0.05, xmax=x+0.05, color=_colors[col], lw=1)\n",
    "                        hline2 = _ax.hlines(ymax, xmin=x-0.05, xmax=x+0.05, color=_colors[col], lw=1)\n",
    "                        i += 1\n",
    "                    j += 1\n",
    "\n",
    "    plt.setp(_ax.lines,linewidth=1)\n",
    "    if not _figlegend:\n",
    "        if _legend_outside:\n",
    "            _ax.legend(handles=legend_elements, loc='lower left', bbox_to_anchor= (0.0, 1.01), ncol=2,\n",
    "                      borderaxespad=0, frameon=False, fontsize=_fontsize)\n",
    "        else:\n",
    "            _ax.legend(handles=legend_elements, loc='upper left', frameon=False, fontsize=_fontsize-8)\n",
    "    else:\n",
    "        _ax.legend(handles=[])\n",
    "\n",
    "    _ax.set_ylim(0, 120)\n",
    "    _ax.set_ylabel(_ylabel, fontsize=_fontsize)\n",
    "    _ax.set_xlabel(_xlabel, fontsize=_fontsize, labelpad=20)\n",
    "    xticklabels = []\n",
    "    if _ax.get_xticklabels():\n",
    "        for lb in _ax.get_xticklabels():\n",
    "            txt = lb.get_text()\n",
    "            if txt == 'click':\n",
    "                xticklabels.append(txt)\n",
    "            else:\n",
    "                xticklabels.append('%ikHz' % int(float(txt)))\n",
    "    _ax.set_xticklabels(xticklabels)\n",
    "    _ax.set_yticks([ytick for ytick in range(20,120,20)])\n",
    "    _ax.tick_params(axis='both', which='major', labelsize=_fontsize)\n",
    "\n",
    "    return legend_elements"
   ]
  },
  {
   "cell_type": "code",
   "execution_count": null,
   "metadata": {
    "code_folding": [],
    "pycharm": {
     "name": "#%%\n"
    }
   },
   "outputs": [],
   "source": [
    "def plot_gene_thresholds(_gene, _data, _labels, _top_effects, _nrows=2, _ncols=2,\n",
    "                         _fontsize=40, _xlabel='stimulation', _ylabel='threshold [dB]',\n",
    "                         _file_output_only=False, text=None):\n",
    "    \"\"\"\n",
    "    Plots hearing curves for a given gene in the data set, taking into account the manually assessed, NN predicted and SLR estimated thresholds.\n",
    "    \"\"\"\n",
    "\n",
    "    data_source = str(_data.source.unique().squeeze())\n",
    "\n",
    "    muts = _data[_data.cohort_type == 'mut']\n",
    "\n",
    "    cols = ['th_manual', 'th_NN_'+data_source+'trained', 'th_SLR_'+data_source+'calibrated']\n",
    "    titles = {}\n",
    "    for col in cols:\n",
    "        titles[col] = '%s\\n(%s)' % (_labels[col], col)\n",
    "\n",
    "    y1 = -0.474\n",
    "    y2 = 0.474\n",
    "\n",
    "    markersize = 10\n",
    "    markerscale = 2\n",
    "\n",
    "    nrows = _nrows\n",
    "    ncols = _ncols\n",
    "    xlabel = _xlabel\n",
    "\n",
    "    fig1, axs1 = plt.subplots(nrows, ncols, figsize=(ncols*15,nrows*13), sharex=True, constrained_layout=True)\n",
    "\n",
    "    nrow = -1\n",
    "    ncol = 0\n",
    "    for _idx,col in enumerate(cols):\n",
    "\n",
    "        xlabel = _xlabel\n",
    "        ylabel = _ylabel\n",
    "\n",
    "        ncol = _idx%ncols\n",
    "\n",
    "        if ncol == 0:\n",
    "            nrow += 1\n",
    "        else:\n",
    "            ylabel = None\n",
    "\n",
    "        if nrow == 0 and nrows > 1:\n",
    "            xlabel = None\n",
    "\n",
    "        if nrows == 1:\n",
    "            ax = axs1[ncol]\n",
    "        else:\n",
    "            ax = axs1[nrow, ncol]\n",
    "\n",
    "        plot_thresholds4gene(_gene, [col], _data, colors, markers, linestyles, labels,\n",
    "                             _estimator=np.median, _ci=None, _dodge=0.1,\n",
    "                             _fontsize=_fontsize, _markersize=markersize, _markerscale=markerscale,\n",
    "                             _xlabel=xlabel, _ylabel=ylabel, _fig=fig1, _ax=ax)\n",
    "\n",
    "        ax.set_title(titles[col], fontsize=_fontsize+5, y=1.01)\n",
    "        if text and _idx < len(text):\n",
    "            ax.text(-0.3, 3., text[_idx], fontsize=_fontsize+10, fontweight='bold')\n",
    "        ax.grid(zorder=0, color='lightgray')\n",
    "\n",
    "        ncol += 1\n",
    "\n",
    "    if nrows == 1:\n",
    "        ax = axs1[ncol]\n",
    "    else:\n",
    "        ax = axs1[nrow, ncol]\n",
    "\n",
    "\n",
    "    top_effects_man = _top_effects[[\"gene\"] + [col for col in _top_effects.columns if 'manual' in col]]\n",
    "    ax.scatter([0], top_effects_man[top_effects_man.gene==_gene][['gene', 'click_th_manual_d']].set_index(\"gene\").T,\n",
    "               s=plt.rcParams['lines.markersize'] ** 3.2, marker=markers['mut'], color=colors['th_manual_mut'])\n",
    "    ax.plot(range(1,6), top_effects_man[top_effects_man.gene==_gene][top_effects_man.columns.drop(['click_th_manual_d'])].set_index(\"gene\").T,\n",
    "            label=\"manual\", color=colors['th_manual_mut'])\n",
    "\n",
    "    top_effects_nn = _top_effects[[\"gene\"] + [col for col in _top_effects.columns if 'NN' in col]]\n",
    "    ax.scatter([0], top_effects_nn[top_effects_nn.gene==_gene][['gene', 'click_th_NN_GMCtrained_d']].set_index(\"gene\").T,\n",
    "               s=plt.rcParams['lines.markersize'] ** 3.2, marker=markers['mut'], color=colors['th_NN_GMCtrained_mut'])\n",
    "    ax.plot(range(1, 6),\n",
    "            top_effects_nn[top_effects_nn.gene==_gene][top_effects_nn.columns.drop(['click_th_NN_GMCtrained_d'])].set_index(\"gene\").T,\n",
    "            label=\"NN\", color=colors['th_NN_GMCtrained_mut'])\n",
    "\n",
    "    top_effects_slr = _top_effects[[\"gene\"] + [col for col in _top_effects.columns if 'SLR' in col]]\n",
    "    ax.scatter([0], top_effects_slr[top_effects_slr.gene==_gene][['gene', 'click_th_SLR_GMCcalibrated_d']].set_index(\"gene\").T,\n",
    "               s=plt.rcParams['lines.markersize'] ** 3.2, marker=markers['mut'], color=colors['th_SLR_GMCcalibrated_mut'])\n",
    "    ax.plot(range(1, 6),\n",
    "            top_effects_slr[top_effects_slr.gene==_gene][top_effects_slr.columns.drop(['click_th_SLR_GMCcalibrated_d'])].set_index(\"gene\").T,\n",
    "            label=\"SLR\", color=colors['th_SLR_GMCcalibrated_mut'])\n",
    "\n",
    "    ax.axhline(y=y1, color='grey', ls='-.', lw=2, label='strong effect')\n",
    "    ax.axhline(y=0.0, color='grey', ls='dashed', lw=2, label='strong effect')\n",
    "    ax.axhline(y=y2, color='grey', ls='-.', lw=2)\n",
    "\n",
    "    ax.set_title(\"Mutant vs. control effect sizes\", fontsize=_fontsize+5, y=1.01)\n",
    "    if text and _idx < len(text):\n",
    "        ax.text(-0.3, -0.95, text[-1], fontsize=_fontsize+10, fontweight='bold')\n",
    "    ax.grid(zorder=0, color='lightgray')\n",
    "    ax.set_ylim(-1.0, 1.0)\n",
    "    # axs1[nrow, ncol].set_ylabel(ylabel, fontsize=_fontsize)\n",
    "    ax.set_xlabel(xlabel, fontsize=_fontsize, labelpad=20)\n",
    "    ax.tick_params(axis='both', which='major', labelsize=_fontsize)\n",
    "\n",
    "    legend_elements = [Line2D([0], [0], color=colors['th_manual_mut'], linestyle=linestyles['mut'], label='manual'),\n",
    "                       Line2D([0], [0], color=colors['th_NN_GMCtrained_mut'], linestyle=linestyles['mut'],label='NN'),\n",
    "                       Line2D([0], [0], color=colors['th_SLR_GMCcalibrated_mut'], linestyle=linestyles['mut'],label='SLR'),\n",
    "                       Line2D([0], [0], color='grey', linestyle='-.',label='strong effect')]\n",
    "\n",
    "    ax.legend(handles=legend_elements, loc='upper left', frameon=False, fontsize=_fontsize-8, ncol=2)\n",
    "\n",
    "    fig1.tight_layout()\n",
    "\n",
    "    #         pdf.savefig(fig1, bbox_inches = 'tight', papertype = 'letter')\n",
    "    fig1.savefig(os.path.join('../results', _gene + '_median_hearing_and_curves_effect_sizes.png'))\n",
    "    if _file_output_only:\n",
    "        plt.close()"
   ]
  },
  {
   "cell_type": "markdown",
   "metadata": {
    "pycharm": {
     "name": "#%% md\n"
    }
   },
   "source": [
    "## Click\n",
    "\n",
    "List genes with significant and strong effects: **p<0.05 & |d| > 0.474**."
   ]
  },
  {
   "cell_type": "markdown",
   "metadata": {
    "pycharm": {
     "name": "#%% md\n"
    }
   },
   "source": [
    "### Effect based on manually assessed thresholds"
   ]
  },
  {
   "cell_type": "code",
   "execution_count": null,
   "metadata": {
    "pycharm": {
     "name": "#%%\n"
    }
   },
   "outputs": [],
   "source": [
    "\"\"\"Effect based on manually assessed thresholds\"\"\"\n",
    "\n",
    "top_effects_click_manual_up = line_data[line_data.gene.isin(line_effects[line_effects.click_manual_up].gene)].sort_values(by=['click_th_manual_d'], ascending=False)[['gene', 'click_th_manual_d']]\n",
    "print('----------------------------------------------------------------')\n",
    "print('Genes with significant p-values and strong positive effects (%i):' % top_effects_click_manual_up.gene.nunique())\n",
    "print('----------------------------------------------------------------')\n",
    "display(top_effects_click_manual_up)\n",
    "\n",
    "top_effects_click_manual_down = line_data[line_data.gene.isin(line_effects[line_effects.click_manual_down].gene)].sort_values(by=['click_th_manual_d'], ascending=True)[['gene', 'click_th_manual_d']]\n",
    "print('----------------------------------------------------------------')\n",
    "print('Genes with significant p-values and strong negative effects (%i):' % top_effects_click_manual_down.gene.nunique())\n",
    "print('----------------------------------------------------------------')\n",
    "display(top_effects_click_manual_down)"
   ]
  },
  {
   "cell_type": "markdown",
   "metadata": {
    "pycharm": {
     "name": "#%% md\n"
    }
   },
   "source": [
    "### Effect based on NN predicted thresholds"
   ]
  },
  {
   "cell_type": "code",
   "execution_count": null,
   "metadata": {
    "pycharm": {
     "name": "#%%\n"
    }
   },
   "outputs": [],
   "source": [
    "\"\"\"Effect based on NN predicted thresholds\"\"\"\n",
    "\n",
    "top_effects_click_NN_up = line_data[line_data.gene.isin(line_effects[line_effects.click_NN_GMCtrained_up].gene)].sort_values(by=['click_th_NN_GMCtrained_d'], ascending=False)[['gene', 'click_th_NN_GMCtrained_d']]\n",
    "print('----------------------------------------------------------------')\n",
    "print('Genes with significant p-values and strong positive effects (%i):' % top_effects_click_NN_up.gene.nunique())\n",
    "print('----------------------------------------------------------------')\n",
    "display(top_effects_click_NN_up)\n",
    "\n",
    "top_effects_click_NN_down = line_data[line_data.gene.isin(line_effects[line_effects.click_NN_GMCtrained_down].gene)].sort_values(by=['click_th_NN_GMCtrained_d'], ascending=True)[['gene', 'click_th_NN_GMCtrained_d']]\n",
    "print('----------------------------------------------------------------')\n",
    "print('Genes with significant p-values and strong negative effects (%i):' % top_effects_click_NN_down.gene.nunique())\n",
    "print('----------------------------------------------------------------')\n",
    "display(top_effects_click_NN_down)"
   ]
  },
  {
   "cell_type": "markdown",
   "metadata": {
    "pycharm": {
     "name": "#%% md\n"
    }
   },
   "source": [
    "### Effect based on SLR estimated thresholds"
   ]
  },
  {
   "cell_type": "code",
   "execution_count": null,
   "metadata": {
    "pycharm": {
     "name": "#%%\n"
    }
   },
   "outputs": [],
   "source": [
    "\"\"\"Effect based on SLR estimated thresholds\"\"\"\n",
    "\n",
    "top_effects_click_SLR_up = line_data[line_data.gene.isin(line_effects[line_effects.click_SLR_GMCcalibrated_up].gene)].sort_values(by=['click_th_SLR_GMCcalibrated_d'], ascending=False)[['gene', 'click_th_SLR_GMCcalibrated_d']]\n",
    "print('----------------------------------------------------------------')\n",
    "print('Genes with significant p-values and strong positive effects (%i):' % top_effects_click_SLR_up.gene.nunique())\n",
    "print('----------------------------------------------------------------')\n",
    "display(top_effects_click_SLR_up)\n",
    "\n",
    "top_effects_click_SLR_down = line_data[line_data.gene.isin(line_effects[line_effects.click_SLR_GMCcalibrated_down].gene)].sort_values(by=['click_th_SLR_GMCcalibrated_d'], ascending=True)[['gene', 'click_th_SLR_GMCcalibrated_d']]\n",
    "print('----------------------------------------------------------------')\n",
    "print('Genes with significant p-values and strong negative effects (%i):' % top_effects_click_SLR_down.gene.nunique())\n",
    "print('----------------------------------------------------------------')\n",
    "display(top_effects_click_SLR_down)"
   ]
  },
  {
   "cell_type": "markdown",
   "metadata": {
    "pycharm": {
     "name": "#%% md\n"
    }
   },
   "source": [
    "### Complete list of genes"
   ]
  },
  {
   "cell_type": "code",
   "execution_count": null,
   "metadata": {
    "pycharm": {
     "name": "#%%\n"
    }
   },
   "outputs": [],
   "source": [
    "top_effects_click_up = line_data[line_data.gene.isin(line_effects[line_effects.click_manual_up | line_effects.click_NN_GMCtrained_up | line_effects.click_SLR_GMCcalibrated_up].gene)].sort_values(by=['click_th_manual_d'], ascending=False)[['gene', 'click_th_manual_d', 'click_th_NN_GMCtrained_d', 'click_th_SLR_GMCcalibrated_d']]\n",
    "print('----------------------------------------------------------------')\n",
    "print('Genes with significant p-values and strong positive effects (%i):\\n  manual: %i genes\\n  NN:\\t  %i genes\\n  SLR:\\t  %i genes\\n  total:  %i genes' % \n",
    "      (top_effects_click_up.gene.nunique(), top_effects_click_manual_up.gene.nunique(), top_effects_click_NN_up.gene.nunique(), top_effects_click_SLR_up.gene.nunique(), \n",
    "       len(np.unique(np.union1d(np.unique(np.union1d(top_effects_click_manual_up.gene.unique(), top_effects_click_NN_up.gene.unique())), top_effects_click_SLR_up.gene.unique())))))\n",
    "print('----------------------------------------------------------------')\n",
    "display(top_effects_click_up)"
   ]
  },
  {
   "cell_type": "code",
   "execution_count": null,
   "metadata": {
    "pycharm": {
     "name": "#%%\n"
    }
   },
   "outputs": [],
   "source": [
    "top_effects_click_down = line_data[line_data.gene.isin(line_effects[line_effects.click_manual_down | line_effects.click_NN_GMCtrained_down | line_effects.click_SLR_GMCcalibrated_down].gene)].sort_values(by=['click_th_manual_d'], ascending=True)[['gene', 'click_th_manual_d', 'click_th_NN_GMCtrained_d', 'click_th_SLR_GMCcalibrated_d']]\n",
    "print('----------------------------------------------------------------')\n",
    "print('Genes with significant p-values and strong negative effects (%i):\\n  manual: %i genes\\n  NN:\\t  %i genes\\n  SLR:\\t  %i genes\\n  total:  %i genes' % \n",
    "      (top_effects_click_down.gene.nunique(), top_effects_click_manual_down.gene.nunique(), top_effects_click_NN_down.gene.nunique(), top_effects_click_SLR_down.gene.nunique(), \n",
    "       len(np.unique(np.union1d(np.unique(np.union1d(top_effects_click_manual_down.gene.unique(), top_effects_click_NN_down.gene.unique())), top_effects_click_SLR_down.gene.unique())))))\n",
    "print('----------------------------------------------------------------')\n",
    "display(top_effects_click_down)"
   ]
  },
  {
   "cell_type": "code",
   "execution_count": null,
   "metadata": {
    "pycharm": {
     "name": "#%%\n"
    }
   },
   "outputs": [],
   "source": [
    "top_effects_click = line_data[line_data.gene.isin(top_effects_click_up.gene) | line_data.gene.isin(top_effects_click_down.gene)][[\"gene\"] + [col for col in line_data.columns if '_d' in col]]\n",
    "top_effects_click['effect'] = ['up' if (top_effects_click.at[idx,'gene'] in top_effects_click_up.gene.values) else 'down' for idx in top_effects_click.index]\n",
    "top_effects_click.sort_values(by=['click_th_manual_d'], ascending=False, inplace=True)\n",
    "top_effects_click = top_effects_click[['gene', 'effect'] + [col for col in line_data.columns if '_d' in col]]\n",
    "print('----------------------------------------------------------------')\n",
    "print('Click - strong effects: %i genes\\n  up:\\t%i genes\\n  down:\\t%i genes' % \n",
    "      (top_effects_click.gene.nunique(), top_effects_click[top_effects_click.effect == 'up'].gene.nunique(), top_effects_click[top_effects_click.effect == 'down'].gene.nunique()))\n",
    "print('----------------------------------------------------------------')\n",
    "display(top_effects_click)"
   ]
  },
  {
   "cell_type": "code",
   "execution_count": null,
   "metadata": {
    "pycharm": {
     "name": "#%%\n"
    }
   },
   "outputs": [],
   "source": [
    "\"\"\"Concatenate top click genes\"\"\"\n",
    "top_click_genes = pd.concat([pd.Series(top_effects_click_up.gene).reset_index().drop(columns='index').rename(columns={\"gene\": \"genes_up_combined\"}),\n",
    "                             pd.Series(top_effects_click_manual_up.gene).reset_index().drop(columns='index').rename(columns={\"gene\": \"genes_up_manual\"}), \n",
    "                             pd.Series(top_effects_click_NN_up.gene).reset_index().drop(columns='index').rename(columns={\"gene\": \"genes_up_NN\"}),  \n",
    "                             pd.Series(top_effects_click_SLR_up.gene).reset_index().drop(columns='index').rename(columns={\"gene\": \"genes_up_SLR\"}),\n",
    "                             pd.Series(top_effects_click_down.gene).reset_index().drop(columns='index').rename(columns={\"gene\": \"genes_down_combined\"}),\n",
    "                             pd.Series(top_effects_click_manual_down.gene).reset_index().drop(columns='index').rename(columns={\"gene\": \"genes_down_manual\"}), \n",
    "                             pd.Series(top_effects_click_NN_down.gene).reset_index().drop(columns='index').rename(columns={\"gene\": \"genes_down_NN\"}),  \n",
    "                             pd.Series(top_effects_click_SLR_down.gene).reset_index().drop(columns='index').rename(columns={\"gene\": \"genes_down_SLR\"})], \n",
    "                            axis = 1)\n",
    "\n",
    "top_click_genes.replace(np.nan, '', regex=True)"
   ]
  },
  {
   "cell_type": "markdown",
   "metadata": {
    "pycharm": {
     "name": "#%% md\n"
    }
   },
   "source": [
    "### Plot comparisons for all genes with strong positive effects"
   ]
  },
  {
   "cell_type": "code",
   "execution_count": null,
   "metadata": {
    "code_folding": [],
    "pycharm": {
     "name": "#%%\n"
    }
   },
   "outputs": [],
   "source": [
    "for idx, gene in enumerate(top_effects_click_up.sort_values(by=['click_th_manual_d'], ascending=False).gene[:1]):\n",
    "    plot_effect_size_comparison(_genes=[gene], _top_effects=top_effects_click, _stimul='click', _effect='up', _idx=idx, \n",
    "                                _fontsize=30, _xlabel=\"stimulation\", _ylabel=\"Cliff's delta\")"
   ]
  },
  {
   "cell_type": "markdown",
   "metadata": {
    "pycharm": {
     "name": "#%% md\n"
    }
   },
   "source": [
    "### Plot comparisons for all genes with strong negative effects"
   ]
  },
  {
   "cell_type": "code",
   "execution_count": null,
   "metadata": {
    "pycharm": {
     "name": "#%%\n"
    }
   },
   "outputs": [],
   "source": [
    "for idx, gene in enumerate(top_effects_click_down.sort_values(by=['click_th_manual_d'], ascending=True).gene[:1]):\n",
    "    plot_effect_size_comparison(_genes=[gene], _top_effects=top_effects_click, _stimul='click', _effect='down', _idx=idx, \n",
    "                                _fontsize=30, _xlabel=\"stimulation\", _ylabel=\"Cliff's delta\")"
   ]
  },
  {
   "cell_type": "markdown",
   "metadata": {
    "pycharm": {
     "name": "#%% md\n"
    }
   },
   "source": [
    "## 30 kHz\n",
    "\n",
    "List genes with significant and strong effects: p<0.05 & |d| > 0.474."
   ]
  },
  {
   "cell_type": "markdown",
   "metadata": {
    "pycharm": {
     "name": "#%% md\n"
    }
   },
   "source": [
    "### Effect based on manually assessed thresholds"
   ]
  },
  {
   "cell_type": "code",
   "execution_count": null,
   "metadata": {
    "pycharm": {
     "name": "#%%\n"
    }
   },
   "outputs": [],
   "source": [
    "\"\"\"Effect based on manually assessed thresholds\"\"\"\n",
    "\n",
    "top_effects_30kHz_manual_up = line_data[line_data.gene.isin(line_effects[line_effects['30kHz_manual_up']].gene)].sort_values(by=['30kHz_th_manual_d'], ascending=False)[['gene', '30kHz_th_manual_d']]\n",
    "print('----------------------------------------------------------------')\n",
    "print('Genes with significant p-values and strong positive effects (%i):' % top_effects_30kHz_manual_up.gene.nunique())\n",
    "print('----------------------------------------------------------------')\n",
    "display(top_effects_30kHz_manual_up)\n",
    "\n",
    "top_effects_30kHz_manual_down = line_data[line_data.gene.isin(line_effects[line_effects['30kHz_manual_down']].gene)].sort_values(by=['30kHz_th_manual_d'], ascending=True)[['gene', '30kHz_th_manual_d']]\n",
    "print('----------------------------------------------------------------')\n",
    "print('Genes with significant p-values and strong negative effects (%i):' % top_effects_30kHz_manual_down.gene.nunique())\n",
    "print('----------------------------------------------------------------')\n",
    "display(top_effects_30kHz_manual_down)"
   ]
  },
  {
   "cell_type": "markdown",
   "metadata": {
    "pycharm": {
     "name": "#%% md\n"
    }
   },
   "source": [
    "### Effect based on NN predicted thresholds"
   ]
  },
  {
   "cell_type": "code",
   "execution_count": null,
   "metadata": {
    "pycharm": {
     "name": "#%%\n"
    }
   },
   "outputs": [],
   "source": [
    "\"\"\"Effect based on NN predicted thresholds\"\"\"\n",
    "\n",
    "top_effects_30kHz_NN_up = line_data[line_data.gene.isin(line_effects[line_effects['30kHz_NN_GMCtrained_up']].gene)].sort_values(by=['30kHz_th_NN_GMCtrained_d'], ascending=False)[['gene', '30kHz_th_NN_GMCtrained_d']]\n",
    "print('----------------------------------------------------------------')\n",
    "print('Genes with significant p-values and strong positive effects (%i):' % top_effects_30kHz_NN_up.gene.nunique())\n",
    "print('----------------------------------------------------------------')\n",
    "display(top_effects_30kHz_NN_up)\n",
    "\n",
    "top_effects_30kHz_NN_down = line_data[line_data.gene.isin(line_effects[line_effects['30kHz_NN_GMCtrained_down']].gene)].sort_values(by=['30kHz_th_NN_GMCtrained_d'], ascending=True)[['gene', '30kHz_th_NN_GMCtrained_d']]\n",
    "print('----------------------------------------------------------------')\n",
    "print('Genes with significant p-values and strong negative effects (%i):' % top_effects_30kHz_NN_down.gene.nunique())\n",
    "print('----------------------------------------------------------------')\n",
    "display(top_effects_30kHz_NN_down)"
   ]
  },
  {
   "cell_type": "markdown",
   "metadata": {
    "pycharm": {
     "name": "#%% md\n"
    }
   },
   "source": [
    "### Effect based on SLR estimated thresholds"
   ]
  },
  {
   "cell_type": "code",
   "execution_count": null,
   "metadata": {
    "pycharm": {
     "name": "#%%\n"
    }
   },
   "outputs": [],
   "source": [
    "\"\"\"Effect based on SLR estimated thresholds\"\"\"\n",
    "\n",
    "top_effects_30kHz_SLR_up = line_data[line_data.gene.isin(line_effects[line_effects['30kHz_SLR_GMCcalibrated_up']].gene)].sort_values(by=['30kHz_th_SLR_GMCcalibrated_d'], ascending=False)[['gene', '30kHz_th_SLR_GMCcalibrated_d']]\n",
    "print('----------------------------------------------------------------')\n",
    "print('Genes with significant p-values and strong positive effects (%i):' % top_effects_30kHz_SLR_up.gene.nunique())\n",
    "print('----------------------------------------------------------------')\n",
    "display(top_effects_30kHz_SLR_up)\n",
    "\n",
    "top_effects_30kHz_SLR_down = line_data[line_data.gene.isin(line_effects[line_effects['30kHz_SLR_GMCcalibrated_down']].gene)].sort_values(by=['30kHz_th_SLR_GMCcalibrated_d'], ascending=True)[['gene', '30kHz_th_SLR_GMCcalibrated_d']]\n",
    "print('----------------------------------------------------------------')\n",
    "print('Genes with significant p-values and strong negative effects (%i):' % top_effects_30kHz_SLR_down.gene.nunique())\n",
    "print('----------------------------------------------------------------')\n",
    "display(top_effects_30kHz_SLR_down)"
   ]
  },
  {
   "cell_type": "markdown",
   "metadata": {
    "pycharm": {
     "name": "#%% md\n"
    }
   },
   "source": [
    "### Complete list of genes"
   ]
  },
  {
   "cell_type": "code",
   "execution_count": null,
   "metadata": {
    "pycharm": {
     "name": "#%%\n"
    }
   },
   "outputs": [],
   "source": [
    "top_effects_30kHz_up = line_data[line_data.gene.isin(line_effects[line_effects['30kHz_manual_up'] | line_effects['30kHz_NN_GMCtrained_up'] | line_effects['30kHz_SLR_GMCcalibrated_up']].gene)].sort_values(by=['30kHz_th_manual_d'], ascending=False)[['gene', '30kHz_th_manual_d', '30kHz_th_NN_GMCtrained_d', '30kHz_th_SLR_GMCcalibrated_d']]\n",
    "print('----------------------------------------------------------------')\n",
    "print('Genes with significant p-values and strong positive effects (%i):\\n  manual: %i genes\\n  NN:\\t  %i genes\\n  SLR:\\t  %i genes\\n  total:  %i genes' % \n",
    "      (top_effects_30kHz_up.gene.nunique(), top_effects_30kHz_manual_up.gene.nunique(), top_effects_30kHz_NN_up.gene.nunique(), top_effects_30kHz_SLR_up.gene.nunique(), \n",
    "       len(np.unique(np.union1d(np.unique(np.union1d(top_effects_30kHz_manual_up.gene.unique(), top_effects_30kHz_NN_up.gene.unique())), top_effects_30kHz_SLR_up.gene.unique())))))\n",
    "print('----------------------------------------------------------------')\n",
    "display(top_effects_30kHz_up)"
   ]
  },
  {
   "cell_type": "code",
   "execution_count": null,
   "metadata": {
    "pycharm": {
     "name": "#%%\n"
    }
   },
   "outputs": [],
   "source": [
    "top_effects_30kHz_down = line_data[line_data.gene.isin(line_effects[line_effects['30kHz_manual_down'] | line_effects['30kHz_NN_GMCtrained_down'] | line_effects['30kHz_SLR_GMCcalibrated_down']].gene)].sort_values(by=['30kHz_th_manual_d'], ascending=False)[['gene', '30kHz_th_manual_d', '30kHz_th_NN_GMCtrained_d', '30kHz_th_SLR_GMCcalibrated_d']]\n",
    "print('----------------------------------------------------------------')\n",
    "print('Genes with significant p-values and strong positive effects (%i):\\n  manual: %i genes\\n  NN:\\t  %i genes\\n  SLR:\\t  %i genes\\n  total:  %i genes' % \n",
    "      (top_effects_30kHz_down.gene.nunique(), top_effects_30kHz_manual_down.gene.nunique(), top_effects_30kHz_NN_down.gene.nunique(), top_effects_30kHz_SLR_down.gene.nunique(), \n",
    "       len(np.unique(np.union1d(np.unique(np.union1d(top_effects_30kHz_manual_down.gene.unique(), top_effects_30kHz_NN_down.gene.unique())), top_effects_30kHz_SLR_down.gene.unique())))))\n",
    "print('----------------------------------------------------------------')\n",
    "display(top_effects_30kHz_down)"
   ]
  },
  {
   "cell_type": "code",
   "execution_count": null,
   "metadata": {
    "pycharm": {
     "name": "#%%\n"
    }
   },
   "outputs": [],
   "source": [
    "top_effects_30kHz = line_data[line_data.gene.isin(top_effects_30kHz_up.gene) | line_data.gene.isin(top_effects_30kHz_down.gene)][[\"gene\"] + [col for col in line_data.columns if '_d' in col]]\n",
    "top_effects_30kHz['effect'] = ['up' if (top_effects_30kHz.at[idx,'gene'] in top_effects_30kHz_up.gene.values) else 'down' for idx in top_effects_30kHz.index]\n",
    "top_effects_30kHz.sort_values(by=['30kHz_th_manual_d'], ascending=False, inplace=True)\n",
    "top_effects_30kHz = top_effects_30kHz[['gene', 'effect'] + [col for col in line_data.columns if '_d' in col]]\n",
    "print('----------------------------------------------------------------')\n",
    "print('30kHz - strong effects: %i genes\\n  up:\\t%i genes\\n  down:\\t%i genes' % \n",
    "      (top_effects_30kHz.gene.nunique(), top_effects_30kHz[top_effects_30kHz.effect == 'up'].gene.nunique(), top_effects_30kHz[top_effects_30kHz.effect == 'down'].gene.nunique()))\n",
    "print('----------------------------------------------------------------')\n",
    "display(top_effects_30kHz)"
   ]
  },
  {
   "cell_type": "code",
   "execution_count": null,
   "metadata": {
    "pycharm": {
     "name": "#%%\n"
    }
   },
   "outputs": [],
   "source": [
    "\"\"\"Concatenate top click genes\"\"\"\n",
    "top_30kHz_genes = pd.concat([pd.Series(top_effects_30kHz_up.gene).reset_index().drop(columns='index').rename(columns={\"gene\": \"genes_up_combined\"}),\n",
    "                             pd.Series(top_effects_30kHz_manual_up.gene).reset_index().drop(columns='index').rename(columns={\"gene\": \"genes_up_manual\"}), \n",
    "                             pd.Series(top_effects_30kHz_NN_up.gene).reset_index().drop(columns='index').rename(columns={\"gene\": \"genes_up_NN\"}),  \n",
    "                             pd.Series(top_effects_30kHz_SLR_up.gene).reset_index().drop(columns='index').rename(columns={\"gene\": \"genes_up_SLR\"}),\n",
    "                             pd.Series(top_effects_30kHz_down.gene).reset_index().drop(columns='index').rename(columns={\"gene\": \"genes_down_combined\"}),\n",
    "                             pd.Series(top_effects_30kHz_manual_down.gene).reset_index().drop(columns='index').rename(columns={\"gene\": \"genes_down_manual\"}), \n",
    "                             pd.Series(top_effects_30kHz_NN_down.gene).reset_index().drop(columns='index').rename(columns={\"gene\": \"genes_down_NN\"}),  \n",
    "                             pd.Series(top_effects_30kHz_SLR_down.gene).reset_index().drop(columns='index').rename(columns={\"gene\": \"genes_down_SLR\"})], \n",
    "                            axis = 1)\n",
    "\n",
    "top_30kHz_genes.replace(np.nan, '', regex=True)"
   ]
  },
  {
   "cell_type": "markdown",
   "metadata": {
    "pycharm": {
     "name": "#%% md\n"
    }
   },
   "source": [
    "### Plot comparisons for all genes with strong positive effects"
   ]
  },
  {
   "cell_type": "code",
   "execution_count": null,
   "metadata": {
    "code_folding": [],
    "pycharm": {
     "name": "#%%\n"
    }
   },
   "outputs": [],
   "source": [
    "for idx, gene in enumerate(top_effects_30kHz_up.sort_values(by=['30kHz_th_manual_d'], ascending=False).gene[:1]):\n",
    "    plot_effect_size_comparison(_genes=[gene], _top_effects=top_effects_30kHz, _stimul='30kHz', _effect='up', _idx=idx, \n",
    "                                _fontsize=30, _xlabel=\"stimulation\", _ylabel=\"Cliff's delta\")"
   ]
  },
  {
   "cell_type": "markdown",
   "metadata": {
    "pycharm": {
     "name": "#%% md\n"
    }
   },
   "source": [
    "### Plot comparisons for all genes with strong negative effects"
   ]
  },
  {
   "cell_type": "code",
   "execution_count": null,
   "metadata": {
    "pycharm": {
     "name": "#%%\n"
    }
   },
   "outputs": [],
   "source": [
    "for idx, gene in enumerate(top_effects_30kHz_down.sort_values(by=['30kHz_th_manual_d'], ascending=True).gene[:1]):\n",
    "    plot_effect_size_comparison(_genes=[gene], _top_effects=top_effects_30kHz, _stimul='30kHz', _effect='down', _idx=idx, \n",
    "                                _fontsize=30, _xlabel=\"stimulation\", _ylabel=\"Cliff's delta\")"
   ]
  },
  {
   "cell_type": "markdown",
   "metadata": {
    "pycharm": {
     "name": "#%% md\n"
    }
   },
   "source": [
    "## Various comparison plots"
   ]
  },
  {
   "cell_type": "markdown",
   "metadata": {
    "pycharm": {
     "name": "#%% md\n"
    }
   },
   "source": [
    "### Alkbh6 and Mgat1\n",
    "\n",
    "Plot comparisons for these genes with strong effects:\n",
    "* Alkbh6: 30kHz negative\n",
    "* Mgat1: 30kHz positive\n"
   ]
  },
  {
   "cell_type": "code",
   "execution_count": null,
   "metadata": {
    "pycharm": {
     "name": "#%%\n"
    }
   },
   "outputs": [],
   "source": [
    "path2results = '../results'\n",
    "plot_effect_size_comparison(_genes=['Alkbh6', 'Mgat1'], _top_effects=top_effects_30kHz, _stimul='30kHz', _effect=None, _idx=None, \n",
    "                            _fontsize=30, _xlabel=\"stimulation\", _ylabel=\"Cliff's delta\")"
   ]
  },
  {
   "cell_type": "markdown",
   "metadata": {
    "pycharm": {
     "name": "#%% md\n"
    }
   },
   "source": [
    "### Hunk, Plekha1, Alkbh6, Ngdn\n",
    "\n",
    "Plot comparisons for these genes with strong positive effects."
   ]
  },
  {
   "cell_type": "code",
   "execution_count": null,
   "metadata": {
    "pycharm": {
     "name": "#%%\n"
    }
   },
   "outputs": [],
   "source": [
    "plot_effect_size_comparison(_genes=['Hunk', 'Plekha1', 'Alkbh6', 'Ngdn'], _top_effects=top_effects_click, _stimul='click', _effect=None, _idx=None, \n",
    "                            _fontsize=30, _xlabel=\"stimulation\", _ylabel=\"Cliff's delta\")"
   ]
  },
  {
   "cell_type": "markdown",
   "metadata": {
    "pycharm": {
     "name": "#%% md\n"
    }
   },
   "source": [
    "### Vps13c, Rabgap1, Ttll12, Hdac1, Adprm, Kansl1l\n",
    "\n",
    "Plot comparisons for these genes with strong effects:\n",
    "* Vps13c: click positive\n",
    "* Rabgap1: click positive\n",
    "* Ttll12: click and 30kHz positive\n",
    "* Hdac1: click positive\n",
    "* Adprm: click and 30kHz positive\n",
    "* Kansl1: click positive"
   ]
  },
  {
   "cell_type": "code",
   "execution_count": null,
   "metadata": {
    "pycharm": {
     "name": "#%%\n"
    }
   },
   "outputs": [],
   "source": [
    "plot_effect_size_comparison(_genes=['Vps13c', 'Rabgap1', 'Ttll12', 'Hdac1', 'Adprm', 'Kansl1l'], _top_effects=top_effects_click, _stimul='click', _effect=None, _idx=None, \n",
    "                            _fontsize=30, _xlabel=\"stimulation\", _ylabel=\"Cliff's delta\")"
   ]
  },
  {
   "cell_type": "markdown",
   "metadata": {
    "pycharm": {
     "name": "#%% md\n"
    }
   },
   "source": [
    "### Ngdn, Gpatch2l and Gdi2 \n",
    "\n",
    "Plot comparisons for these genes with strong effects:\n",
    "* Ngdn: click and 30kHz positive\n",
    "* Gpatch2l: click positive\n",
    "* Gdi2: click positive"
   ]
  },
  {
   "cell_type": "code",
   "execution_count": null,
   "metadata": {
    "pycharm": {
     "name": "#%%\n"
    }
   },
   "outputs": [],
   "source": [
    "plot_effect_size_comparison(_genes=['Ngdn', 'Gpatch2l', 'Gdi2'], _top_effects=top_effects_click, _stimul='click', _effect=None, _idx=None, \n",
    "                            _fontsize=30, _xlabel=\"stimulation\", _ylabel=\"Cliff's delta\")"
   ]
  },
  {
   "cell_type": "markdown",
   "metadata": {
    "pycharm": {
     "name": "#%% md\n"
    }
   },
   "source": [
    "## Comparison of mutants vs. control effect sizes"
   ]
  },
  {
   "cell_type": "code",
   "execution_count": null,
   "metadata": {
    "pycharm": {
     "name": "#%%\n"
    }
   },
   "outputs": [],
   "source": [
    "dataGMC = dataGMC.astype({\"stimulation\": str})\n",
    "display(dataGMC.head(2))\n",
    "\n",
    "curvesGMC = pd.read_csv(os.path.join(path2data, 'GMC', 'GMC_abr_curves.csv'))\n",
    "display(curvesGMC.head(2))"
   ]
  },
  {
   "cell_type": "markdown",
   "metadata": {
    "heading_collapsed": true
   },
   "source": [
    "### Hunk"
   ]
  },
  {
   "cell_type": "code",
   "execution_count": null,
   "metadata": {
    "hidden": true,
    "pycharm": {
     "name": "#%%\n"
    }
   },
   "outputs": [],
   "source": [
    "plt.rcParams['figure.figsize'] = [30, 26]\n",
    "plot_gene_thresholds('Hunk', dataGMC, _labels=labels, _top_effects=top_effects_click, _nrows=1, _ncols=4,\n",
    "                     _fontsize=40, _xlabel='stimulation', _ylabel='threshold [dB]',\n",
    "                     _file_output_only=False, text=['A', 'B', 'C', 'D'])"
   ]
  },
  {
   "cell_type": "markdown",
   "metadata": {
    "pycharm": {
     "name": "#%% md\n"
    }
   },
   "source": [
    "### Ngdn"
   ]
  },
  {
   "cell_type": "code",
   "execution_count": null,
   "metadata": {
    "pycharm": {
     "name": "#%%\n"
    }
   },
   "outputs": [],
   "source": [
    "plt.rcParams['figure.figsize'] = [30, 26]\n",
    "plot_gene_thresholds('Ngdn', dataGMC, _labels=labels, _top_effects=top_effects_click, _nrows=1, _ncols=4,\n",
    "                     _fontsize=40, _xlabel='stimulation', _ylabel='threshold [dB]',\n",
    "                     _file_output_only=False, text=['E', 'F', 'G', 'H'])"
   ]
  },
  {
   "cell_type": "code",
   "execution_count": null,
   "metadata": {},
   "outputs": [],
   "source": []
  }
 ],
 "metadata": {
  "hide_input": false,
  "kernelspec": {
   "display_name": "Python 3 (ipykernel)",
   "language": "python",
   "name": "python3"
  },
  "language_info": {
   "codemirror_mode": {
    "name": "ipython",
    "version": 3
   },
   "file_extension": ".py",
   "mimetype": "text/x-python",
   "name": "python",
   "nbconvert_exporter": "python",
   "pygments_lexer": "ipython3",
   "version": "3.7.11"
  },
  "toc": {
   "base_numbering": 1,
   "nav_menu": {},
   "number_sections": true,
   "sideBar": true,
   "skip_h1_title": false,
   "title_cell": "Table of Contents",
   "title_sidebar": "Contents",
   "toc_cell": false,
   "toc_position": {},
   "toc_section_display": true,
   "toc_window_display": false
  },
  "varInspector": {
   "cols": {
    "lenName": 16,
    "lenType": 16,
    "lenVar": 40
   },
   "kernels_config": {
    "python": {
     "delete_cmd_postfix": "",
     "delete_cmd_prefix": "del ",
     "library": "var_list.py",
     "varRefreshCmd": "print(var_dic_list())"
    },
    "r": {
     "delete_cmd_postfix": ") ",
     "delete_cmd_prefix": "rm(",
     "library": "var_list.r",
     "varRefreshCmd": "cat(var_dic_list()) "
    }
   },
   "position": {
    "height": "571.85px",
    "left": "1108px",
    "right": "20px",
    "top": "150px",
    "width": "703px"
   },
   "types_to_exclude": [
    "module",
    "function",
    "builtin_function_or_method",
    "instance",
    "_Feature"
   ],
   "window_display": false
  }
 },
 "nbformat": 4,
 "nbformat_minor": 4
}